{
 "cells": [
  {
   "cell_type": "code",
   "execution_count": 65,
   "metadata": {},
   "outputs": [],
   "source": [
    "import pandas as pd\n",
    "import matplotlib.pyplot as plt\n",
    "import seaborn as sns\n",
    "import os\n",
    "import numpy as np \n",
    "import statsmodels.api as sm \n",
    "from statsmodels.graphics.api import abline_plot \n",
    "from sklearn.metrics import mean_squared_error, r2_score\n",
    "from sklearn.model_selection import train_test_split \n",
    "from sklearn import linear_model, preprocessing\n",
    "from scipy.stats import iqr"
   ]
  },
  {
   "cell_type": "code",
   "execution_count": 2,
   "metadata": {},
   "outputs": [
    {
     "name": "stderr",
     "output_type": "stream",
     "text": [
      "C:\\Users\\ryanp\\anaconda3\\lib\\site-packages\\IPython\\core\\interactiveshell.py:3063: DtypeWarning: Columns (15,16,55) have mixed types.Specify dtype option on import or set low_memory=False.\n",
      "  interactivity=interactivity, compiler=compiler, result=result)\n"
     ]
    }
   ],
   "source": [
    "new_car = pd.read_csv(r\"C:/Users/ryanp/Desktop/Springboard/Springboard/New_cars_price.csv\")\n",
    "used_car = pd.read_csv(r\"C:/Users/ryanp/Desktop/Springboard/Springboard/vehicles.csv\", index_col = 0)"
   ]
  },
  {
   "cell_type": "markdown",
   "metadata": {},
   "source": [
    "**New Car Data**"
   ]
  },
  {
   "cell_type": "code",
   "execution_count": 3,
   "metadata": {},
   "outputs": [
    {
     "data": {
      "text/plain": [
       "(32316, 57)"
      ]
     },
     "execution_count": 3,
     "metadata": {},
     "output_type": "execute_result"
    }
   ],
   "source": [
    "new_car.shape"
   ]
  },
  {
   "cell_type": "code",
   "execution_count": 4,
   "metadata": {},
   "outputs": [
    {
     "name": "stdout",
     "output_type": "stream",
     "text": [
      "<class 'pandas.core.frame.DataFrame'>\n",
      "RangeIndex: 32316 entries, 0 to 32315\n",
      "Data columns (total 57 columns):\n",
      " #   Column                                Non-Null Count  Dtype  \n",
      "---  ------                                --------------  -----  \n",
      " 0   Model                                 32316 non-null  object \n",
      " 1   MSRP                                  32262 non-null  object \n",
      " 2   EPA Fuel Economy Est - City (MPG)     27027 non-null  object \n",
      " 3   Engine                                30341 non-null  object \n",
      " 4   EPA Classification                    19866 non-null  object \n",
      " 5   Style Name                            32316 non-null  object \n",
      " 6   Drivetrain                            30600 non-null  object \n",
      " 7   Passenger Capacity                    32316 non-null  int64  \n",
      " 8   Passenger Doors                       32316 non-null  int64  \n",
      " 9   Body Style                            30600 non-null  object \n",
      " 10  Transmission                          29602 non-null  object \n",
      " 11  Base Curb Weight (lbs)                19456 non-null  object \n",
      " 12  Passenger Volume (ft³)                16756 non-null  float64\n",
      " 13  Wheelbase (in)                        30301 non-null  float64\n",
      " 14  Track Width, Front (in)               20130 non-null  float64\n",
      " 15  Height, Overall (in)                  30153 non-null  object \n",
      " 16  Fuel Tank Capacity, Approx (gal)      30148 non-null  object \n",
      " 17  SAE Net Torque @ RPM                  30249 non-null  object \n",
      " 18  Fuel System                           29486 non-null  object \n",
      " 19  SAE Net Horsepower @ RPM              30304 non-null  object \n",
      " 20  Displacement                          30173 non-null  object \n",
      " 21  Trans Description Cont.               30279 non-null  object \n",
      " 22  Trans Type                            30335 non-null  object \n",
      " 23  Brake Type                            30281 non-null  object \n",
      " 24  Steering Type                         30305 non-null  object \n",
      " 25  Suspension Type - Front               30176 non-null  object \n",
      " 26  Suspension Type - Rear                30128 non-null  object \n",
      " 27  Air Bag-Frontal-Driver                32316 non-null  object \n",
      " 28  Air Bag-Frontal-Passenger             32316 non-null  object \n",
      " 29  Air Bag-Passenger Switch (On/Off)     32316 non-null  object \n",
      " 30  Air Bag-Side Body-Front               32316 non-null  object \n",
      " 31  Air Bag-Side Body-Rear                32316 non-null  object \n",
      " 32  Air Bag-Side Head-Front               32316 non-null  object \n",
      " 33  Air Bag-Side Head-Rear                32316 non-null  object \n",
      " 34  Brakes-ABS                            32316 non-null  object \n",
      " 35  Child Safety Rear Door Locks          32316 non-null  object \n",
      " 36  Daytime Running Lights                32316 non-null  object \n",
      " 37  Traction Control                      32316 non-null  object \n",
      " 38  Night Vision                          32316 non-null  object \n",
      " 39  Rollover Protection Bars              32316 non-null  object \n",
      " 40  Fog Lamps                             32316 non-null  object \n",
      " 41  Parking Aid                           32316 non-null  object \n",
      " 42  Tire Pressure Monitor                 32316 non-null  object \n",
      " 43  Back-Up Camera                        32316 non-null  object \n",
      " 44  Stability Control                     32316 non-null  object \n",
      " 45  Basic Miles/km                        30199 non-null  object \n",
      " 46  Basic Years                           30199 non-null  float64\n",
      " 47  Corrosion Miles/km                    29312 non-null  object \n",
      " 48  Corrosion Years                       29350 non-null  float64\n",
      " 49  Drivetrain Miles/km                   29528 non-null  object \n",
      " 50  Drivetrain Years                      29528 non-null  object \n",
      " 51  Turning Diameter - Curb to Curb (ft)  28885 non-null  object \n",
      " 52  Front Wheel Material                  30333 non-null  object \n",
      " 53  Front Tire Size                       30328 non-null  object \n",
      " 54  Stabilizer Bar Diameter - Front (in)  11257 non-null  float64\n",
      " 55  Roadside Assistance Years             25296 non-null  object \n",
      " 56  Roadside Assistance Miles/km          25293 non-null  object \n",
      "dtypes: float64(6), int64(2), object(49)\n",
      "memory usage: 14.1+ MB\n"
     ]
    }
   ],
   "source": [
    "new_car.info()"
   ]
  },
  {
   "cell_type": "code",
   "execution_count": 5,
   "metadata": {},
   "outputs": [
    {
     "data": {
      "text/html": [
       "<div>\n",
       "<style scoped>\n",
       "    .dataframe tbody tr th:only-of-type {\n",
       "        vertical-align: middle;\n",
       "    }\n",
       "\n",
       "    .dataframe tbody tr th {\n",
       "        vertical-align: top;\n",
       "    }\n",
       "\n",
       "    .dataframe thead th {\n",
       "        text-align: right;\n",
       "    }\n",
       "</style>\n",
       "<table border=\"1\" class=\"dataframe\">\n",
       "  <thead>\n",
       "    <tr style=\"text-align: right;\">\n",
       "      <th></th>\n",
       "      <th>Model</th>\n",
       "      <th>MSRP</th>\n",
       "      <th>EPA Fuel Economy Est - City (MPG)</th>\n",
       "      <th>Engine</th>\n",
       "      <th>EPA Classification</th>\n",
       "      <th>Style Name</th>\n",
       "      <th>Drivetrain</th>\n",
       "      <th>Passenger Capacity</th>\n",
       "      <th>Passenger Doors</th>\n",
       "      <th>Body Style</th>\n",
       "      <th>...</th>\n",
       "      <th>Corrosion Miles/km</th>\n",
       "      <th>Corrosion Years</th>\n",
       "      <th>Drivetrain Miles/km</th>\n",
       "      <th>Drivetrain Years</th>\n",
       "      <th>Turning Diameter - Curb to Curb (ft)</th>\n",
       "      <th>Front Wheel Material</th>\n",
       "      <th>Front Tire Size</th>\n",
       "      <th>Stabilizer Bar Diameter - Front (in)</th>\n",
       "      <th>Roadside Assistance Years</th>\n",
       "      <th>Roadside Assistance Miles/km</th>\n",
       "    </tr>\n",
       "  </thead>\n",
       "  <tbody>\n",
       "    <tr>\n",
       "      <th>0</th>\n",
       "      <td>2019 Acura RDX Specs: FWD w/Technology Pkg</td>\n",
       "      <td>$40,600</td>\n",
       "      <td>22</td>\n",
       "      <td>Turbo Premium Unleaded I-4, 2.0 L</td>\n",
       "      <td>Small Sport Utility Vehicles 2WD</td>\n",
       "      <td>FWD w/Technology Pkg</td>\n",
       "      <td>Front Wheel Drive</td>\n",
       "      <td>5</td>\n",
       "      <td>4</td>\n",
       "      <td>Sport Utility</td>\n",
       "      <td>...</td>\n",
       "      <td>Unlimited</td>\n",
       "      <td>5.0</td>\n",
       "      <td>70,000</td>\n",
       "      <td>6.0</td>\n",
       "      <td>39</td>\n",
       "      <td>Aluminum</td>\n",
       "      <td>P235/55HR19</td>\n",
       "      <td>NaN</td>\n",
       "      <td>4</td>\n",
       "      <td>50,000</td>\n",
       "    </tr>\n",
       "    <tr>\n",
       "      <th>1</th>\n",
       "      <td>2019 Acura RDX Specs: FWD w/Advance Pkg</td>\n",
       "      <td>$45,500</td>\n",
       "      <td>22</td>\n",
       "      <td>Turbo Premium Unleaded I-4, 2.0 L</td>\n",
       "      <td>Small Sport Utility Vehicles 2WD</td>\n",
       "      <td>FWD w/Advance Pkg</td>\n",
       "      <td>Front Wheel Drive</td>\n",
       "      <td>5</td>\n",
       "      <td>4</td>\n",
       "      <td>Sport Utility</td>\n",
       "      <td>...</td>\n",
       "      <td>Unlimited</td>\n",
       "      <td>5.0</td>\n",
       "      <td>70,000</td>\n",
       "      <td>6.0</td>\n",
       "      <td>39</td>\n",
       "      <td>Aluminum</td>\n",
       "      <td>P235/55HR19</td>\n",
       "      <td>NaN</td>\n",
       "      <td>4</td>\n",
       "      <td>50,000</td>\n",
       "    </tr>\n",
       "    <tr>\n",
       "      <th>2</th>\n",
       "      <td>2019 Acura RDX Specs: FWD w/A-Spec Pkg</td>\n",
       "      <td>$43,600</td>\n",
       "      <td>22</td>\n",
       "      <td>Turbo Premium Unleaded I-4, 2.0 L</td>\n",
       "      <td>Small Sport Utility Vehicles 2WD</td>\n",
       "      <td>FWD w/A-Spec Pkg</td>\n",
       "      <td>Front Wheel Drive</td>\n",
       "      <td>5</td>\n",
       "      <td>4</td>\n",
       "      <td>Sport Utility</td>\n",
       "      <td>...</td>\n",
       "      <td>Unlimited</td>\n",
       "      <td>5.0</td>\n",
       "      <td>70,000</td>\n",
       "      <td>6.0</td>\n",
       "      <td>39</td>\n",
       "      <td>Aluminum</td>\n",
       "      <td>P255/45VR20</td>\n",
       "      <td>NaN</td>\n",
       "      <td>4</td>\n",
       "      <td>50,000</td>\n",
       "    </tr>\n",
       "    <tr>\n",
       "      <th>3</th>\n",
       "      <td>2019 Acura RDX Specs: FWD</td>\n",
       "      <td>$37,400</td>\n",
       "      <td>22</td>\n",
       "      <td>Turbo Premium Unleaded I-4, 2.0 L</td>\n",
       "      <td>Small Sport Utility Vehicles 2WD</td>\n",
       "      <td>FWD</td>\n",
       "      <td>Front Wheel Drive</td>\n",
       "      <td>5</td>\n",
       "      <td>4</td>\n",
       "      <td>Sport Utility</td>\n",
       "      <td>...</td>\n",
       "      <td>Unlimited</td>\n",
       "      <td>5.0</td>\n",
       "      <td>70,000</td>\n",
       "      <td>6.0</td>\n",
       "      <td>39</td>\n",
       "      <td>Aluminum</td>\n",
       "      <td>P235/55HR19</td>\n",
       "      <td>NaN</td>\n",
       "      <td>4</td>\n",
       "      <td>50,000</td>\n",
       "    </tr>\n",
       "    <tr>\n",
       "      <th>4</th>\n",
       "      <td>2019 Acura RDX Specs: AWD w/Technology Pkg</td>\n",
       "      <td>$42,600</td>\n",
       "      <td>21</td>\n",
       "      <td>Turbo Premium Unleaded I-4, 2.0 L</td>\n",
       "      <td>Small Sport Utility Vehicles 4WD</td>\n",
       "      <td>AWD w/Technology Pkg</td>\n",
       "      <td>All Wheel Drive</td>\n",
       "      <td>5</td>\n",
       "      <td>4</td>\n",
       "      <td>Sport Utility</td>\n",
       "      <td>...</td>\n",
       "      <td>Unlimited</td>\n",
       "      <td>5.0</td>\n",
       "      <td>70,000</td>\n",
       "      <td>6.0</td>\n",
       "      <td>39</td>\n",
       "      <td>Aluminum</td>\n",
       "      <td>P235/55HR19</td>\n",
       "      <td>NaN</td>\n",
       "      <td>4</td>\n",
       "      <td>50,000</td>\n",
       "    </tr>\n",
       "  </tbody>\n",
       "</table>\n",
       "<p>5 rows × 57 columns</p>\n",
       "</div>"
      ],
      "text/plain": [
       "                                        Model     MSRP  \\\n",
       "0  2019 Acura RDX Specs: FWD w/Technology Pkg  $40,600   \n",
       "1     2019 Acura RDX Specs: FWD w/Advance Pkg  $45,500   \n",
       "2      2019 Acura RDX Specs: FWD w/A-Spec Pkg  $43,600   \n",
       "3                   2019 Acura RDX Specs: FWD  $37,400   \n",
       "4  2019 Acura RDX Specs: AWD w/Technology Pkg  $42,600   \n",
       "\n",
       "  EPA Fuel Economy Est - City (MPG)                             Engine  \\\n",
       "0                                22  Turbo Premium Unleaded I-4, 2.0 L   \n",
       "1                                22  Turbo Premium Unleaded I-4, 2.0 L   \n",
       "2                                22  Turbo Premium Unleaded I-4, 2.0 L   \n",
       "3                                22  Turbo Premium Unleaded I-4, 2.0 L   \n",
       "4                                21  Turbo Premium Unleaded I-4, 2.0 L   \n",
       "\n",
       "                 EPA Classification            Style Name         Drivetrain  \\\n",
       "0  Small Sport Utility Vehicles 2WD  FWD w/Technology Pkg  Front Wheel Drive   \n",
       "1  Small Sport Utility Vehicles 2WD     FWD w/Advance Pkg  Front Wheel Drive   \n",
       "2  Small Sport Utility Vehicles 2WD      FWD w/A-Spec Pkg  Front Wheel Drive   \n",
       "3  Small Sport Utility Vehicles 2WD                   FWD  Front Wheel Drive   \n",
       "4  Small Sport Utility Vehicles 4WD  AWD w/Technology Pkg    All Wheel Drive   \n",
       "\n",
       "   Passenger Capacity  Passenger Doors     Body Style  ... Corrosion Miles/km  \\\n",
       "0                   5                4  Sport Utility  ...          Unlimited   \n",
       "1                   5                4  Sport Utility  ...          Unlimited   \n",
       "2                   5                4  Sport Utility  ...          Unlimited   \n",
       "3                   5                4  Sport Utility  ...          Unlimited   \n",
       "4                   5                4  Sport Utility  ...          Unlimited   \n",
       "\n",
       "  Corrosion Years  Drivetrain Miles/km  Drivetrain Years  \\\n",
       "0             5.0               70,000               6.0   \n",
       "1             5.0               70,000               6.0   \n",
       "2             5.0               70,000               6.0   \n",
       "3             5.0               70,000               6.0   \n",
       "4             5.0               70,000               6.0   \n",
       "\n",
       "   Turning Diameter - Curb to Curb (ft) Front Wheel Material Front Tire Size  \\\n",
       "0                                    39             Aluminum     P235/55HR19   \n",
       "1                                    39             Aluminum     P235/55HR19   \n",
       "2                                    39             Aluminum     P255/45VR20   \n",
       "3                                    39             Aluminum     P235/55HR19   \n",
       "4                                    39             Aluminum     P235/55HR19   \n",
       "\n",
       "  Stabilizer Bar Diameter - Front (in) Roadside Assistance Years  \\\n",
       "0                                  NaN                         4   \n",
       "1                                  NaN                         4   \n",
       "2                                  NaN                         4   \n",
       "3                                  NaN                         4   \n",
       "4                                  NaN                         4   \n",
       "\n",
       "  Roadside Assistance Miles/km  \n",
       "0                       50,000  \n",
       "1                       50,000  \n",
       "2                       50,000  \n",
       "3                       50,000  \n",
       "4                       50,000  \n",
       "\n",
       "[5 rows x 57 columns]"
      ]
     },
     "execution_count": 5,
     "metadata": {},
     "output_type": "execute_result"
    }
   ],
   "source": [
    "new_car.head()"
   ]
  },
  {
   "cell_type": "code",
   "execution_count": 6,
   "metadata": {},
   "outputs": [
    {
     "data": {
      "text/html": [
       "<div>\n",
       "<style scoped>\n",
       "    .dataframe tbody tr th:only-of-type {\n",
       "        vertical-align: middle;\n",
       "    }\n",
       "\n",
       "    .dataframe tbody tr th {\n",
       "        vertical-align: top;\n",
       "    }\n",
       "\n",
       "    .dataframe thead th {\n",
       "        text-align: right;\n",
       "    }\n",
       "</style>\n",
       "<table border=\"1\" class=\"dataframe\">\n",
       "  <thead>\n",
       "    <tr style=\"text-align: right;\">\n",
       "      <th></th>\n",
       "      <th>count</th>\n",
       "      <th>%</th>\n",
       "    </tr>\n",
       "  </thead>\n",
       "  <tbody>\n",
       "    <tr>\n",
       "      <th>Model</th>\n",
       "      <td>0</td>\n",
       "      <td>0.000000</td>\n",
       "    </tr>\n",
       "    <tr>\n",
       "      <th>Air Bag-Side Body-Front</th>\n",
       "      <td>0</td>\n",
       "      <td>0.000000</td>\n",
       "    </tr>\n",
       "    <tr>\n",
       "      <th>Air Bag-Side Body-Rear</th>\n",
       "      <td>0</td>\n",
       "      <td>0.000000</td>\n",
       "    </tr>\n",
       "    <tr>\n",
       "      <th>Air Bag-Side Head-Front</th>\n",
       "      <td>0</td>\n",
       "      <td>0.000000</td>\n",
       "    </tr>\n",
       "    <tr>\n",
       "      <th>Air Bag-Side Head-Rear</th>\n",
       "      <td>0</td>\n",
       "      <td>0.000000</td>\n",
       "    </tr>\n",
       "    <tr>\n",
       "      <th>Brakes-ABS</th>\n",
       "      <td>0</td>\n",
       "      <td>0.000000</td>\n",
       "    </tr>\n",
       "    <tr>\n",
       "      <th>Child Safety Rear Door Locks</th>\n",
       "      <td>0</td>\n",
       "      <td>0.000000</td>\n",
       "    </tr>\n",
       "    <tr>\n",
       "      <th>Daytime Running Lights</th>\n",
       "      <td>0</td>\n",
       "      <td>0.000000</td>\n",
       "    </tr>\n",
       "    <tr>\n",
       "      <th>Traction Control</th>\n",
       "      <td>0</td>\n",
       "      <td>0.000000</td>\n",
       "    </tr>\n",
       "    <tr>\n",
       "      <th>Night Vision</th>\n",
       "      <td>0</td>\n",
       "      <td>0.000000</td>\n",
       "    </tr>\n",
       "    <tr>\n",
       "      <th>Rollover Protection Bars</th>\n",
       "      <td>0</td>\n",
       "      <td>0.000000</td>\n",
       "    </tr>\n",
       "    <tr>\n",
       "      <th>Fog Lamps</th>\n",
       "      <td>0</td>\n",
       "      <td>0.000000</td>\n",
       "    </tr>\n",
       "    <tr>\n",
       "      <th>Parking Aid</th>\n",
       "      <td>0</td>\n",
       "      <td>0.000000</td>\n",
       "    </tr>\n",
       "    <tr>\n",
       "      <th>Tire Pressure Monitor</th>\n",
       "      <td>0</td>\n",
       "      <td>0.000000</td>\n",
       "    </tr>\n",
       "    <tr>\n",
       "      <th>Back-Up Camera</th>\n",
       "      <td>0</td>\n",
       "      <td>0.000000</td>\n",
       "    </tr>\n",
       "    <tr>\n",
       "      <th>Stability Control</th>\n",
       "      <td>0</td>\n",
       "      <td>0.000000</td>\n",
       "    </tr>\n",
       "    <tr>\n",
       "      <th>Air Bag-Passenger Switch (On/Off)</th>\n",
       "      <td>0</td>\n",
       "      <td>0.000000</td>\n",
       "    </tr>\n",
       "    <tr>\n",
       "      <th>Air Bag-Frontal-Driver</th>\n",
       "      <td>0</td>\n",
       "      <td>0.000000</td>\n",
       "    </tr>\n",
       "    <tr>\n",
       "      <th>Air Bag-Frontal-Passenger</th>\n",
       "      <td>0</td>\n",
       "      <td>0.000000</td>\n",
       "    </tr>\n",
       "    <tr>\n",
       "      <th>Passenger Doors</th>\n",
       "      <td>0</td>\n",
       "      <td>0.000000</td>\n",
       "    </tr>\n",
       "    <tr>\n",
       "      <th>Style Name</th>\n",
       "      <td>0</td>\n",
       "      <td>0.000000</td>\n",
       "    </tr>\n",
       "    <tr>\n",
       "      <th>Passenger Capacity</th>\n",
       "      <td>0</td>\n",
       "      <td>0.000000</td>\n",
       "    </tr>\n",
       "    <tr>\n",
       "      <th>MSRP</th>\n",
       "      <td>54</td>\n",
       "      <td>0.167100</td>\n",
       "    </tr>\n",
       "    <tr>\n",
       "      <th>Drivetrain</th>\n",
       "      <td>1716</td>\n",
       "      <td>5.310063</td>\n",
       "    </tr>\n",
       "    <tr>\n",
       "      <th>Body Style</th>\n",
       "      <td>1716</td>\n",
       "      <td>5.310063</td>\n",
       "    </tr>\n",
       "    <tr>\n",
       "      <th>Engine</th>\n",
       "      <td>1975</td>\n",
       "      <td>6.111524</td>\n",
       "    </tr>\n",
       "    <tr>\n",
       "      <th>Trans Type</th>\n",
       "      <td>1981</td>\n",
       "      <td>6.130090</td>\n",
       "    </tr>\n",
       "    <tr>\n",
       "      <th>Front Wheel Material</th>\n",
       "      <td>1983</td>\n",
       "      <td>6.136279</td>\n",
       "    </tr>\n",
       "    <tr>\n",
       "      <th>Front Tire Size</th>\n",
       "      <td>1988</td>\n",
       "      <td>6.151751</td>\n",
       "    </tr>\n",
       "    <tr>\n",
       "      <th>Steering Type</th>\n",
       "      <td>2011</td>\n",
       "      <td>6.222924</td>\n",
       "    </tr>\n",
       "    <tr>\n",
       "      <th>SAE Net Horsepower @ RPM</th>\n",
       "      <td>2012</td>\n",
       "      <td>6.226018</td>\n",
       "    </tr>\n",
       "    <tr>\n",
       "      <th>Wheelbase (in)</th>\n",
       "      <td>2015</td>\n",
       "      <td>6.235301</td>\n",
       "    </tr>\n",
       "    <tr>\n",
       "      <th>Brake Type</th>\n",
       "      <td>2035</td>\n",
       "      <td>6.297190</td>\n",
       "    </tr>\n",
       "    <tr>\n",
       "      <th>Trans Description Cont.</th>\n",
       "      <td>2037</td>\n",
       "      <td>6.303379</td>\n",
       "    </tr>\n",
       "    <tr>\n",
       "      <th>SAE Net Torque @ RPM</th>\n",
       "      <td>2067</td>\n",
       "      <td>6.396212</td>\n",
       "    </tr>\n",
       "    <tr>\n",
       "      <th>Basic Years</th>\n",
       "      <td>2117</td>\n",
       "      <td>6.550935</td>\n",
       "    </tr>\n",
       "    <tr>\n",
       "      <th>Basic Miles/km</th>\n",
       "      <td>2117</td>\n",
       "      <td>6.550935</td>\n",
       "    </tr>\n",
       "    <tr>\n",
       "      <th>Suspension Type - Front</th>\n",
       "      <td>2140</td>\n",
       "      <td>6.622107</td>\n",
       "    </tr>\n",
       "    <tr>\n",
       "      <th>Displacement</th>\n",
       "      <td>2143</td>\n",
       "      <td>6.631390</td>\n",
       "    </tr>\n",
       "    <tr>\n",
       "      <th>Height, Overall (in)</th>\n",
       "      <td>2163</td>\n",
       "      <td>6.693279</td>\n",
       "    </tr>\n",
       "    <tr>\n",
       "      <th>Fuel Tank Capacity, Approx (gal)</th>\n",
       "      <td>2168</td>\n",
       "      <td>6.708751</td>\n",
       "    </tr>\n",
       "    <tr>\n",
       "      <th>Suspension Type - Rear</th>\n",
       "      <td>2188</td>\n",
       "      <td>6.770640</td>\n",
       "    </tr>\n",
       "    <tr>\n",
       "      <th>Transmission</th>\n",
       "      <td>2714</td>\n",
       "      <td>8.398317</td>\n",
       "    </tr>\n",
       "    <tr>\n",
       "      <th>Drivetrain Years</th>\n",
       "      <td>2788</td>\n",
       "      <td>8.627305</td>\n",
       "    </tr>\n",
       "    <tr>\n",
       "      <th>Drivetrain Miles/km</th>\n",
       "      <td>2788</td>\n",
       "      <td>8.627305</td>\n",
       "    </tr>\n",
       "    <tr>\n",
       "      <th>Fuel System</th>\n",
       "      <td>2830</td>\n",
       "      <td>8.757272</td>\n",
       "    </tr>\n",
       "    <tr>\n",
       "      <th>Corrosion Years</th>\n",
       "      <td>2966</td>\n",
       "      <td>9.178116</td>\n",
       "    </tr>\n",
       "    <tr>\n",
       "      <th>Corrosion Miles/km</th>\n",
       "      <td>3004</td>\n",
       "      <td>9.295705</td>\n",
       "    </tr>\n",
       "    <tr>\n",
       "      <th>Turning Diameter - Curb to Curb (ft)</th>\n",
       "      <td>3431</td>\n",
       "      <td>10.617032</td>\n",
       "    </tr>\n",
       "    <tr>\n",
       "      <th>EPA Fuel Economy Est - City (MPG)</th>\n",
       "      <td>5289</td>\n",
       "      <td>16.366506</td>\n",
       "    </tr>\n",
       "    <tr>\n",
       "      <th>Roadside Assistance Years</th>\n",
       "      <td>7020</td>\n",
       "      <td>21.722986</td>\n",
       "    </tr>\n",
       "    <tr>\n",
       "      <th>Roadside Assistance Miles/km</th>\n",
       "      <td>7023</td>\n",
       "      <td>21.732269</td>\n",
       "    </tr>\n",
       "    <tr>\n",
       "      <th>Track Width, Front (in)</th>\n",
       "      <td>12186</td>\n",
       "      <td>37.708875</td>\n",
       "    </tr>\n",
       "    <tr>\n",
       "      <th>EPA Classification</th>\n",
       "      <td>12450</td>\n",
       "      <td>38.525808</td>\n",
       "    </tr>\n",
       "    <tr>\n",
       "      <th>Base Curb Weight (lbs)</th>\n",
       "      <td>12860</td>\n",
       "      <td>39.794529</td>\n",
       "    </tr>\n",
       "    <tr>\n",
       "      <th>Passenger Volume (ft³)</th>\n",
       "      <td>15560</td>\n",
       "      <td>48.149523</td>\n",
       "    </tr>\n",
       "    <tr>\n",
       "      <th>Stabilizer Bar Diameter - Front (in)</th>\n",
       "      <td>21059</td>\n",
       "      <td>65.165862</td>\n",
       "    </tr>\n",
       "  </tbody>\n",
       "</table>\n",
       "</div>"
      ],
      "text/plain": [
       "                                      count          %\n",
       "Model                                     0   0.000000\n",
       "Air Bag-Side Body-Front                   0   0.000000\n",
       "Air Bag-Side Body-Rear                    0   0.000000\n",
       "Air Bag-Side Head-Front                   0   0.000000\n",
       "Air Bag-Side Head-Rear                    0   0.000000\n",
       "Brakes-ABS                                0   0.000000\n",
       "Child Safety Rear Door Locks              0   0.000000\n",
       "Daytime Running Lights                    0   0.000000\n",
       "Traction Control                          0   0.000000\n",
       "Night Vision                              0   0.000000\n",
       "Rollover Protection Bars                  0   0.000000\n",
       "Fog Lamps                                 0   0.000000\n",
       "Parking Aid                               0   0.000000\n",
       "Tire Pressure Monitor                     0   0.000000\n",
       "Back-Up Camera                            0   0.000000\n",
       "Stability Control                         0   0.000000\n",
       "Air Bag-Passenger Switch (On/Off)         0   0.000000\n",
       "Air Bag-Frontal-Driver                    0   0.000000\n",
       "Air Bag-Frontal-Passenger                 0   0.000000\n",
       "Passenger Doors                           0   0.000000\n",
       "Style Name                                0   0.000000\n",
       "Passenger Capacity                        0   0.000000\n",
       "MSRP                                     54   0.167100\n",
       "Drivetrain                             1716   5.310063\n",
       "Body Style                             1716   5.310063\n",
       "Engine                                 1975   6.111524\n",
       "Trans Type                             1981   6.130090\n",
       "Front Wheel Material                   1983   6.136279\n",
       "Front Tire Size                        1988   6.151751\n",
       "Steering Type                          2011   6.222924\n",
       "SAE Net Horsepower @ RPM               2012   6.226018\n",
       "Wheelbase (in)                         2015   6.235301\n",
       "Brake Type                             2035   6.297190\n",
       "Trans Description Cont.                2037   6.303379\n",
       "SAE Net Torque @ RPM                   2067   6.396212\n",
       "Basic Years                            2117   6.550935\n",
       "Basic Miles/km                         2117   6.550935\n",
       "Suspension Type - Front                2140   6.622107\n",
       "Displacement                           2143   6.631390\n",
       "Height, Overall (in)                   2163   6.693279\n",
       "Fuel Tank Capacity, Approx (gal)       2168   6.708751\n",
       "Suspension Type - Rear                 2188   6.770640\n",
       "Transmission                           2714   8.398317\n",
       "Drivetrain Years                       2788   8.627305\n",
       "Drivetrain Miles/km                    2788   8.627305\n",
       "Fuel System                            2830   8.757272\n",
       "Corrosion Years                        2966   9.178116\n",
       "Corrosion Miles/km                     3004   9.295705\n",
       "Turning Diameter - Curb to Curb (ft)   3431  10.617032\n",
       "EPA Fuel Economy Est - City (MPG)      5289  16.366506\n",
       "Roadside Assistance Years              7020  21.722986\n",
       "Roadside Assistance Miles/km           7023  21.732269\n",
       "Track Width, Front (in)               12186  37.708875\n",
       "EPA Classification                    12450  38.525808\n",
       "Base Curb Weight (lbs)                12860  39.794529\n",
       "Passenger Volume (ft³)                15560  48.149523\n",
       "Stabilizer Bar Diameter - Front (in)  21059  65.165862"
      ]
     },
     "execution_count": 6,
     "metadata": {},
     "output_type": "execute_result"
    }
   ],
   "source": [
    "missing_new = pd.concat([new_car.isnull().sum(), 100 * new_car.isnull().mean()], axis=1)\n",
    "missing_new.columns = ['count', '%']\n",
    "missing_new.sort_values(by='count')"
   ]
  },
  {
   "cell_type": "code",
   "execution_count": 7,
   "metadata": {},
   "outputs": [
    {
     "data": {
      "text/html": [
       "<div>\n",
       "<style scoped>\n",
       "    .dataframe tbody tr th:only-of-type {\n",
       "        vertical-align: middle;\n",
       "    }\n",
       "\n",
       "    .dataframe tbody tr th {\n",
       "        vertical-align: top;\n",
       "    }\n",
       "\n",
       "    .dataframe thead th {\n",
       "        text-align: right;\n",
       "    }\n",
       "</style>\n",
       "<table border=\"1\" class=\"dataframe\">\n",
       "  <thead>\n",
       "    <tr style=\"text-align: right;\">\n",
       "      <th></th>\n",
       "      <th>Model</th>\n",
       "      <th>MSRP</th>\n",
       "    </tr>\n",
       "  </thead>\n",
       "  <tbody>\n",
       "    <tr>\n",
       "      <th>0</th>\n",
       "      <td>2019 Acura RDX Specs: FWD w/Technology Pkg</td>\n",
       "      <td>$40,600</td>\n",
       "    </tr>\n",
       "    <tr>\n",
       "      <th>1</th>\n",
       "      <td>2019 Acura RDX Specs: FWD w/Advance Pkg</td>\n",
       "      <td>$45,500</td>\n",
       "    </tr>\n",
       "    <tr>\n",
       "      <th>2</th>\n",
       "      <td>2019 Acura RDX Specs: FWD w/A-Spec Pkg</td>\n",
       "      <td>$43,600</td>\n",
       "    </tr>\n",
       "    <tr>\n",
       "      <th>3</th>\n",
       "      <td>2019 Acura RDX Specs: FWD</td>\n",
       "      <td>$37,400</td>\n",
       "    </tr>\n",
       "    <tr>\n",
       "      <th>4</th>\n",
       "      <td>2019 Acura RDX Specs: AWD w/Technology Pkg</td>\n",
       "      <td>$42,600</td>\n",
       "    </tr>\n",
       "  </tbody>\n",
       "</table>\n",
       "</div>"
      ],
      "text/plain": [
       "                                        Model     MSRP\n",
       "0  2019 Acura RDX Specs: FWD w/Technology Pkg  $40,600\n",
       "1     2019 Acura RDX Specs: FWD w/Advance Pkg  $45,500\n",
       "2      2019 Acura RDX Specs: FWD w/A-Spec Pkg  $43,600\n",
       "3                   2019 Acura RDX Specs: FWD  $37,400\n",
       "4  2019 Acura RDX Specs: AWD w/Technology Pkg  $42,600"
      ]
     },
     "execution_count": 7,
     "metadata": {},
     "output_type": "execute_result"
    }
   ],
   "source": [
    "new_car.drop(new_car.columns.difference(['Model','MSRP']), 1, inplace=True)\n",
    "new_car.head()"
   ]
  },
  {
   "cell_type": "code",
   "execution_count": 8,
   "metadata": {},
   "outputs": [
    {
     "data": {
      "text/plain": [
       "(32316, 2)"
      ]
     },
     "execution_count": 8,
     "metadata": {},
     "output_type": "execute_result"
    }
   ],
   "source": [
    "new_car.shape"
   ]
  },
  {
   "cell_type": "code",
   "execution_count": 9,
   "metadata": {},
   "outputs": [
    {
     "data": {
      "text/plain": [
       "(32262, 2)"
      ]
     },
     "execution_count": 9,
     "metadata": {},
     "output_type": "execute_result"
    }
   ],
   "source": [
    "new_prices = new_car.dropna()\n",
    "new_prices.shape"
   ]
  },
  {
   "cell_type": "code",
   "execution_count": 10,
   "metadata": {},
   "outputs": [
    {
     "data": {
      "text/plain": [
       "Model    32262\n",
       "MSRP     10228\n",
       "dtype: int64"
      ]
     },
     "execution_count": 10,
     "metadata": {},
     "output_type": "execute_result"
    }
   ],
   "source": [
    "new_prices.nunique()"
   ]
  },
  {
   "cell_type": "code",
   "execution_count": 11,
   "metadata": {},
   "outputs": [
    {
     "name": "stdout",
     "output_type": "stream",
     "text": [
      "Model    0\n",
      "MSRP     0\n",
      "dtype: int64\n"
     ]
    }
   ],
   "source": [
    "print(new_prices.isnull().sum())"
   ]
  },
  {
   "cell_type": "code",
   "execution_count": 12,
   "metadata": {},
   "outputs": [
    {
     "name": "stderr",
     "output_type": "stream",
     "text": [
      "C:\\Users\\ryanp\\anaconda3\\lib\\site-packages\\ipykernel_launcher.py:1: SettingWithCopyWarning: \n",
      "A value is trying to be set on a copy of a slice from a DataFrame.\n",
      "Try using .loc[row_indexer,col_indexer] = value instead\n",
      "\n",
      "See the caveats in the documentation: https://pandas.pydata.org/pandas-docs/stable/user_guide/indexing.html#returning-a-view-versus-a-copy\n",
      "  \"\"\"Entry point for launching an IPython kernel.\n"
     ]
    }
   ],
   "source": [
    "new_prices['MSRP'] = new_prices['MSRP'].str.replace(\"$\", \"\").str.replace(\",\", \"\").astype(int)"
   ]
  },
  {
   "cell_type": "code",
   "execution_count": 13,
   "metadata": {},
   "outputs": [
    {
     "data": {
      "text/plain": [
       "0    40600\n",
       "1    45500\n",
       "2    43600\n",
       "3    37400\n",
       "4    42600\n",
       "Name: MSRP, dtype: int32"
      ]
     },
     "execution_count": 13,
     "metadata": {},
     "output_type": "execute_result"
    }
   ],
   "source": [
    "new_prices['MSRP'].head()"
   ]
  },
  {
   "cell_type": "code",
   "execution_count": 14,
   "metadata": {},
   "outputs": [
    {
     "data": {
      "text/plain": [
       "32311    2018 Volvo V60 Cross Country Specs: T5 AWD Pla...\n",
       "32312    2016 Volvo V60 Cross Country Specs: 4-Door Wag...\n",
       "32313    2016 Volvo V60 Cross Country Specs: 4-Door Wag...\n",
       "32314    2015 Volvo V60 Cross Country Specs: 2015.5 4-D...\n",
       "32315    2015 Volvo V60 Cross Country Specs: 2015.5 4-D...\n",
       "Name: Model, dtype: object"
      ]
     },
     "execution_count": 14,
     "metadata": {},
     "output_type": "execute_result"
    }
   ],
   "source": [
    "new_prices['Model'].tail()"
   ]
  },
  {
   "cell_type": "code",
   "execution_count": 15,
   "metadata": {},
   "outputs": [
    {
     "data": {
      "text/html": [
       "<div>\n",
       "<style scoped>\n",
       "    .dataframe tbody tr th:only-of-type {\n",
       "        vertical-align: middle;\n",
       "    }\n",
       "\n",
       "    .dataframe tbody tr th {\n",
       "        vertical-align: top;\n",
       "    }\n",
       "\n",
       "    .dataframe thead th {\n",
       "        text-align: right;\n",
       "    }\n",
       "</style>\n",
       "<table border=\"1\" class=\"dataframe\">\n",
       "  <thead>\n",
       "    <tr style=\"text-align: right;\">\n",
       "      <th></th>\n",
       "      <th>Model</th>\n",
       "      <th>MSRP</th>\n",
       "    </tr>\n",
       "  </thead>\n",
       "  <tbody>\n",
       "    <tr>\n",
       "      <th>0</th>\n",
       "      <td>2019 Acura RDX Specs: FWD w/Technology Pkg</td>\n",
       "      <td>40600</td>\n",
       "    </tr>\n",
       "    <tr>\n",
       "      <th>1</th>\n",
       "      <td>2019 Acura RDX Specs: FWD w/Advance Pkg</td>\n",
       "      <td>45500</td>\n",
       "    </tr>\n",
       "    <tr>\n",
       "      <th>2</th>\n",
       "      <td>2019 Acura RDX Specs: FWD w/A-Spec Pkg</td>\n",
       "      <td>43600</td>\n",
       "    </tr>\n",
       "    <tr>\n",
       "      <th>3</th>\n",
       "      <td>2019 Acura RDX Specs: FWD</td>\n",
       "      <td>37400</td>\n",
       "    </tr>\n",
       "    <tr>\n",
       "      <th>4</th>\n",
       "      <td>2019 Acura RDX Specs: AWD w/Technology Pkg</td>\n",
       "      <td>42600</td>\n",
       "    </tr>\n",
       "  </tbody>\n",
       "</table>\n",
       "</div>"
      ],
      "text/plain": [
       "                                        Model   MSRP\n",
       "0  2019 Acura RDX Specs: FWD w/Technology Pkg  40600\n",
       "1     2019 Acura RDX Specs: FWD w/Advance Pkg  45500\n",
       "2      2019 Acura RDX Specs: FWD w/A-Spec Pkg  43600\n",
       "3                   2019 Acura RDX Specs: FWD  37400\n",
       "4  2019 Acura RDX Specs: AWD w/Technology Pkg  42600"
      ]
     },
     "execution_count": 15,
     "metadata": {},
     "output_type": "execute_result"
    }
   ],
   "source": [
    "new_prices.head()"
   ]
  },
  {
   "cell_type": "code",
   "execution_count": 16,
   "metadata": {
    "scrolled": true
   },
   "outputs": [
    {
     "data": {
      "text/plain": [
       "array(['2019 Acura RDX Specs: FWD w/Technology Pkg',\n",
       "       '2019 Acura RDX Specs: FWD w/Advance Pkg',\n",
       "       '2019 Acura RDX Specs: FWD w/A-Spec Pkg', ...,\n",
       "       '2016 Volvo V60 Cross Country Specs: 4-Door Wagon T5 Platinum AWD',\n",
       "       '2015 Volvo V60 Cross Country Specs: 2015.5 4-Door Wagon T5 AWD',\n",
       "       '2015 Volvo V60 Cross Country Specs: 2015.5 4-Door Wagon T5 Platinum AWD'],\n",
       "      dtype=object)"
      ]
     },
     "execution_count": 16,
     "metadata": {},
     "output_type": "execute_result"
    }
   ],
   "source": [
    "new_model = new_prices['Model'].unique()\n",
    "new_model"
   ]
  },
  {
   "cell_type": "markdown",
   "metadata": {},
   "source": [
    "**Used Car Data**"
   ]
  },
  {
   "cell_type": "code",
   "execution_count": 17,
   "metadata": {},
   "outputs": [
    {
     "data": {
      "text/plain": [
       "(458213, 25)"
      ]
     },
     "execution_count": 17,
     "metadata": {},
     "output_type": "execute_result"
    }
   ],
   "source": [
    "used_car.shape"
   ]
  },
  {
   "cell_type": "code",
   "execution_count": 18,
   "metadata": {},
   "outputs": [
    {
     "name": "stdout",
     "output_type": "stream",
     "text": [
      "<class 'pandas.core.frame.DataFrame'>\n",
      "Int64Index: 458213 entries, 0 to 458212\n",
      "Data columns (total 25 columns):\n",
      " #   Column        Non-Null Count   Dtype  \n",
      "---  ------        --------------   -----  \n",
      " 0   id            458213 non-null  int64  \n",
      " 1   url           458213 non-null  object \n",
      " 2   region        458213 non-null  object \n",
      " 3   region_url    458213 non-null  object \n",
      " 4   price         458213 non-null  int64  \n",
      " 5   year          457163 non-null  float64\n",
      " 6   manufacturer  439993 non-null  object \n",
      " 7   model         453367 non-null  object \n",
      " 8   condition     265273 non-null  object \n",
      " 9   cylinders     287073 non-null  object \n",
      " 10  fuel          454976 non-null  object \n",
      " 11  odometer      402910 non-null  float64\n",
      " 12  title_status  455636 non-null  object \n",
      " 13  transmission  455771 non-null  object \n",
      " 14  VIN           270664 non-null  object \n",
      " 15  drive         324025 non-null  object \n",
      " 16  size          136865 non-null  object \n",
      " 17  type          345475 non-null  object \n",
      " 18  paint_color   317370 non-null  object \n",
      " 19  image_url     458185 non-null  object \n",
      " 20  description   458143 non-null  object \n",
      " 21  state         458213 non-null  object \n",
      " 22  lat           450765 non-null  float64\n",
      " 23  long          450765 non-null  float64\n",
      " 24  posting_date  458185 non-null  object \n",
      "dtypes: float64(4), int64(2), object(19)\n",
      "memory usage: 90.9+ MB\n"
     ]
    }
   ],
   "source": [
    "used_car.info()"
   ]
  },
  {
   "cell_type": "code",
   "execution_count": 19,
   "metadata": {},
   "outputs": [
    {
     "data": {
      "text/html": [
       "<div>\n",
       "<style scoped>\n",
       "    .dataframe tbody tr th:only-of-type {\n",
       "        vertical-align: middle;\n",
       "    }\n",
       "\n",
       "    .dataframe tbody tr th {\n",
       "        vertical-align: top;\n",
       "    }\n",
       "\n",
       "    .dataframe thead th {\n",
       "        text-align: right;\n",
       "    }\n",
       "</style>\n",
       "<table border=\"1\" class=\"dataframe\">\n",
       "  <thead>\n",
       "    <tr style=\"text-align: right;\">\n",
       "      <th></th>\n",
       "      <th>id</th>\n",
       "      <th>url</th>\n",
       "      <th>region</th>\n",
       "      <th>region_url</th>\n",
       "      <th>price</th>\n",
       "      <th>year</th>\n",
       "      <th>manufacturer</th>\n",
       "      <th>model</th>\n",
       "      <th>condition</th>\n",
       "      <th>cylinders</th>\n",
       "      <th>...</th>\n",
       "      <th>drive</th>\n",
       "      <th>size</th>\n",
       "      <th>type</th>\n",
       "      <th>paint_color</th>\n",
       "      <th>image_url</th>\n",
       "      <th>description</th>\n",
       "      <th>state</th>\n",
       "      <th>lat</th>\n",
       "      <th>long</th>\n",
       "      <th>posting_date</th>\n",
       "    </tr>\n",
       "  </thead>\n",
       "  <tbody>\n",
       "    <tr>\n",
       "      <th>0</th>\n",
       "      <td>7240372487</td>\n",
       "      <td>https://auburn.craigslist.org/ctd/d/auburn-uni...</td>\n",
       "      <td>auburn</td>\n",
       "      <td>https://auburn.craigslist.org</td>\n",
       "      <td>35990</td>\n",
       "      <td>2010.0</td>\n",
       "      <td>chevrolet</td>\n",
       "      <td>corvette grand sport</td>\n",
       "      <td>good</td>\n",
       "      <td>8 cylinders</td>\n",
       "      <td>...</td>\n",
       "      <td>rwd</td>\n",
       "      <td>NaN</td>\n",
       "      <td>other</td>\n",
       "      <td>NaN</td>\n",
       "      <td>https://images.craigslist.org/00N0N_ipkbHVZYf4...</td>\n",
       "      <td>Carvana is the safer way to buy a car During t...</td>\n",
       "      <td>al</td>\n",
       "      <td>32.590000</td>\n",
       "      <td>-85.480000</td>\n",
       "      <td>2020-12-02T08:11:30-0600</td>\n",
       "    </tr>\n",
       "    <tr>\n",
       "      <th>1</th>\n",
       "      <td>7240309422</td>\n",
       "      <td>https://auburn.craigslist.org/cto/d/auburn-201...</td>\n",
       "      <td>auburn</td>\n",
       "      <td>https://auburn.craigslist.org</td>\n",
       "      <td>7500</td>\n",
       "      <td>2014.0</td>\n",
       "      <td>hyundai</td>\n",
       "      <td>sonata</td>\n",
       "      <td>excellent</td>\n",
       "      <td>4 cylinders</td>\n",
       "      <td>...</td>\n",
       "      <td>fwd</td>\n",
       "      <td>NaN</td>\n",
       "      <td>sedan</td>\n",
       "      <td>NaN</td>\n",
       "      <td>https://images.craigslist.org/00s0s_gBHYmJ5o7y...</td>\n",
       "      <td>I'll move to another city and try to sell my c...</td>\n",
       "      <td>al</td>\n",
       "      <td>32.547500</td>\n",
       "      <td>-85.468200</td>\n",
       "      <td>2020-12-02T02:11:50-0600</td>\n",
       "    </tr>\n",
       "    <tr>\n",
       "      <th>2</th>\n",
       "      <td>7240224296</td>\n",
       "      <td>https://auburn.craigslist.org/cto/d/auburn-200...</td>\n",
       "      <td>auburn</td>\n",
       "      <td>https://auburn.craigslist.org</td>\n",
       "      <td>4900</td>\n",
       "      <td>2006.0</td>\n",
       "      <td>bmw</td>\n",
       "      <td>x3 3.0i</td>\n",
       "      <td>good</td>\n",
       "      <td>6 cylinders</td>\n",
       "      <td>...</td>\n",
       "      <td>NaN</td>\n",
       "      <td>NaN</td>\n",
       "      <td>SUV</td>\n",
       "      <td>blue</td>\n",
       "      <td>https://images.craigslist.org/00B0B_5zgEGWPOrt...</td>\n",
       "      <td>Clean 2006 BMW X3 3.0I.  Beautiful and rare Bl...</td>\n",
       "      <td>al</td>\n",
       "      <td>32.616807</td>\n",
       "      <td>-85.464149</td>\n",
       "      <td>2020-12-01T19:50:41-0600</td>\n",
       "    </tr>\n",
       "    <tr>\n",
       "      <th>3</th>\n",
       "      <td>7240103965</td>\n",
       "      <td>https://auburn.craigslist.org/cto/d/lanett-tru...</td>\n",
       "      <td>auburn</td>\n",
       "      <td>https://auburn.craigslist.org</td>\n",
       "      <td>2000</td>\n",
       "      <td>1974.0</td>\n",
       "      <td>chevrolet</td>\n",
       "      <td>c-10</td>\n",
       "      <td>good</td>\n",
       "      <td>4 cylinders</td>\n",
       "      <td>...</td>\n",
       "      <td>rwd</td>\n",
       "      <td>full-size</td>\n",
       "      <td>pickup</td>\n",
       "      <td>blue</td>\n",
       "      <td>https://images.craigslist.org/00M0M_6o7KcDpArw...</td>\n",
       "      <td>1974 chev. truck (LONG BED) NEW starter front ...</td>\n",
       "      <td>al</td>\n",
       "      <td>32.861600</td>\n",
       "      <td>-85.216100</td>\n",
       "      <td>2020-12-01T15:54:45-0600</td>\n",
       "    </tr>\n",
       "    <tr>\n",
       "      <th>4</th>\n",
       "      <td>7239983776</td>\n",
       "      <td>https://auburn.craigslist.org/cto/d/auburn-200...</td>\n",
       "      <td>auburn</td>\n",
       "      <td>https://auburn.craigslist.org</td>\n",
       "      <td>19500</td>\n",
       "      <td>2005.0</td>\n",
       "      <td>ford</td>\n",
       "      <td>f350 lariat</td>\n",
       "      <td>excellent</td>\n",
       "      <td>8 cylinders</td>\n",
       "      <td>...</td>\n",
       "      <td>4wd</td>\n",
       "      <td>full-size</td>\n",
       "      <td>pickup</td>\n",
       "      <td>blue</td>\n",
       "      <td>https://images.craigslist.org/00p0p_b95l1EgUfl...</td>\n",
       "      <td>2005 Ford F350 Lariat (Bullet Proofed). This t...</td>\n",
       "      <td>al</td>\n",
       "      <td>32.547500</td>\n",
       "      <td>-85.468200</td>\n",
       "      <td>2020-12-01T12:53:56-0600</td>\n",
       "    </tr>\n",
       "  </tbody>\n",
       "</table>\n",
       "<p>5 rows × 25 columns</p>\n",
       "</div>"
      ],
      "text/plain": [
       "           id                                                url  region  \\\n",
       "0  7240372487  https://auburn.craigslist.org/ctd/d/auburn-uni...  auburn   \n",
       "1  7240309422  https://auburn.craigslist.org/cto/d/auburn-201...  auburn   \n",
       "2  7240224296  https://auburn.craigslist.org/cto/d/auburn-200...  auburn   \n",
       "3  7240103965  https://auburn.craigslist.org/cto/d/lanett-tru...  auburn   \n",
       "4  7239983776  https://auburn.craigslist.org/cto/d/auburn-200...  auburn   \n",
       "\n",
       "                      region_url  price    year manufacturer  \\\n",
       "0  https://auburn.craigslist.org  35990  2010.0    chevrolet   \n",
       "1  https://auburn.craigslist.org   7500  2014.0      hyundai   \n",
       "2  https://auburn.craigslist.org   4900  2006.0          bmw   \n",
       "3  https://auburn.craigslist.org   2000  1974.0    chevrolet   \n",
       "4  https://auburn.craigslist.org  19500  2005.0         ford   \n",
       "\n",
       "                  model  condition    cylinders  ... drive       size    type  \\\n",
       "0  corvette grand sport       good  8 cylinders  ...   rwd        NaN   other   \n",
       "1                sonata  excellent  4 cylinders  ...   fwd        NaN   sedan   \n",
       "2               x3 3.0i       good  6 cylinders  ...   NaN        NaN     SUV   \n",
       "3                  c-10       good  4 cylinders  ...   rwd  full-size  pickup   \n",
       "4           f350 lariat  excellent  8 cylinders  ...   4wd  full-size  pickup   \n",
       "\n",
       "  paint_color                                          image_url  \\\n",
       "0         NaN  https://images.craigslist.org/00N0N_ipkbHVZYf4...   \n",
       "1         NaN  https://images.craigslist.org/00s0s_gBHYmJ5o7y...   \n",
       "2        blue  https://images.craigslist.org/00B0B_5zgEGWPOrt...   \n",
       "3        blue  https://images.craigslist.org/00M0M_6o7KcDpArw...   \n",
       "4        blue  https://images.craigslist.org/00p0p_b95l1EgUfl...   \n",
       "\n",
       "                                         description state        lat  \\\n",
       "0  Carvana is the safer way to buy a car During t...    al  32.590000   \n",
       "1  I'll move to another city and try to sell my c...    al  32.547500   \n",
       "2  Clean 2006 BMW X3 3.0I.  Beautiful and rare Bl...    al  32.616807   \n",
       "3  1974 chev. truck (LONG BED) NEW starter front ...    al  32.861600   \n",
       "4  2005 Ford F350 Lariat (Bullet Proofed). This t...    al  32.547500   \n",
       "\n",
       "        long              posting_date  \n",
       "0 -85.480000  2020-12-02T08:11:30-0600  \n",
       "1 -85.468200  2020-12-02T02:11:50-0600  \n",
       "2 -85.464149  2020-12-01T19:50:41-0600  \n",
       "3 -85.216100  2020-12-01T15:54:45-0600  \n",
       "4 -85.468200  2020-12-01T12:53:56-0600  \n",
       "\n",
       "[5 rows x 25 columns]"
      ]
     },
     "execution_count": 19,
     "metadata": {},
     "output_type": "execute_result"
    }
   ],
   "source": [
    "used_car.head()"
   ]
  },
  {
   "cell_type": "code",
   "execution_count": 20,
   "metadata": {},
   "outputs": [
    {
     "data": {
      "text/html": [
       "<div>\n",
       "<style scoped>\n",
       "    .dataframe tbody tr th:only-of-type {\n",
       "        vertical-align: middle;\n",
       "    }\n",
       "\n",
       "    .dataframe tbody tr th {\n",
       "        vertical-align: top;\n",
       "    }\n",
       "\n",
       "    .dataframe thead th {\n",
       "        text-align: right;\n",
       "    }\n",
       "</style>\n",
       "<table border=\"1\" class=\"dataframe\">\n",
       "  <thead>\n",
       "    <tr style=\"text-align: right;\">\n",
       "      <th></th>\n",
       "      <th>count</th>\n",
       "      <th>%</th>\n",
       "    </tr>\n",
       "  </thead>\n",
       "  <tbody>\n",
       "    <tr>\n",
       "      <th>id</th>\n",
       "      <td>0</td>\n",
       "      <td>0.000000</td>\n",
       "    </tr>\n",
       "    <tr>\n",
       "      <th>url</th>\n",
       "      <td>0</td>\n",
       "      <td>0.000000</td>\n",
       "    </tr>\n",
       "    <tr>\n",
       "      <th>region</th>\n",
       "      <td>0</td>\n",
       "      <td>0.000000</td>\n",
       "    </tr>\n",
       "    <tr>\n",
       "      <th>region_url</th>\n",
       "      <td>0</td>\n",
       "      <td>0.000000</td>\n",
       "    </tr>\n",
       "    <tr>\n",
       "      <th>price</th>\n",
       "      <td>0</td>\n",
       "      <td>0.000000</td>\n",
       "    </tr>\n",
       "    <tr>\n",
       "      <th>state</th>\n",
       "      <td>0</td>\n",
       "      <td>0.000000</td>\n",
       "    </tr>\n",
       "    <tr>\n",
       "      <th>image_url</th>\n",
       "      <td>28</td>\n",
       "      <td>0.006111</td>\n",
       "    </tr>\n",
       "    <tr>\n",
       "      <th>posting_date</th>\n",
       "      <td>28</td>\n",
       "      <td>0.006111</td>\n",
       "    </tr>\n",
       "    <tr>\n",
       "      <th>description</th>\n",
       "      <td>70</td>\n",
       "      <td>0.015277</td>\n",
       "    </tr>\n",
       "    <tr>\n",
       "      <th>year</th>\n",
       "      <td>1050</td>\n",
       "      <td>0.229151</td>\n",
       "    </tr>\n",
       "    <tr>\n",
       "      <th>transmission</th>\n",
       "      <td>2442</td>\n",
       "      <td>0.532940</td>\n",
       "    </tr>\n",
       "    <tr>\n",
       "      <th>title_status</th>\n",
       "      <td>2577</td>\n",
       "      <td>0.562402</td>\n",
       "    </tr>\n",
       "    <tr>\n",
       "      <th>fuel</th>\n",
       "      <td>3237</td>\n",
       "      <td>0.706440</td>\n",
       "    </tr>\n",
       "    <tr>\n",
       "      <th>model</th>\n",
       "      <td>4846</td>\n",
       "      <td>1.057587</td>\n",
       "    </tr>\n",
       "    <tr>\n",
       "      <th>long</th>\n",
       "      <td>7448</td>\n",
       "      <td>1.625445</td>\n",
       "    </tr>\n",
       "    <tr>\n",
       "      <th>lat</th>\n",
       "      <td>7448</td>\n",
       "      <td>1.625445</td>\n",
       "    </tr>\n",
       "    <tr>\n",
       "      <th>manufacturer</th>\n",
       "      <td>18220</td>\n",
       "      <td>3.976317</td>\n",
       "    </tr>\n",
       "    <tr>\n",
       "      <th>odometer</th>\n",
       "      <td>55303</td>\n",
       "      <td>12.069278</td>\n",
       "    </tr>\n",
       "    <tr>\n",
       "      <th>type</th>\n",
       "      <td>112738</td>\n",
       "      <td>24.603841</td>\n",
       "    </tr>\n",
       "    <tr>\n",
       "      <th>drive</th>\n",
       "      <td>134188</td>\n",
       "      <td>29.285070</td>\n",
       "    </tr>\n",
       "    <tr>\n",
       "      <th>paint_color</th>\n",
       "      <td>140843</td>\n",
       "      <td>30.737452</td>\n",
       "    </tr>\n",
       "    <tr>\n",
       "      <th>cylinders</th>\n",
       "      <td>171140</td>\n",
       "      <td>37.349442</td>\n",
       "    </tr>\n",
       "    <tr>\n",
       "      <th>VIN</th>\n",
       "      <td>187549</td>\n",
       "      <td>40.930528</td>\n",
       "    </tr>\n",
       "    <tr>\n",
       "      <th>condition</th>\n",
       "      <td>192940</td>\n",
       "      <td>42.107055</td>\n",
       "    </tr>\n",
       "    <tr>\n",
       "      <th>size</th>\n",
       "      <td>321348</td>\n",
       "      <td>70.130703</td>\n",
       "    </tr>\n",
       "  </tbody>\n",
       "</table>\n",
       "</div>"
      ],
      "text/plain": [
       "               count          %\n",
       "id                 0   0.000000\n",
       "url                0   0.000000\n",
       "region             0   0.000000\n",
       "region_url         0   0.000000\n",
       "price              0   0.000000\n",
       "state              0   0.000000\n",
       "image_url         28   0.006111\n",
       "posting_date      28   0.006111\n",
       "description       70   0.015277\n",
       "year            1050   0.229151\n",
       "transmission    2442   0.532940\n",
       "title_status    2577   0.562402\n",
       "fuel            3237   0.706440\n",
       "model           4846   1.057587\n",
       "long            7448   1.625445\n",
       "lat             7448   1.625445\n",
       "manufacturer   18220   3.976317\n",
       "odometer       55303  12.069278\n",
       "type          112738  24.603841\n",
       "drive         134188  29.285070\n",
       "paint_color   140843  30.737452\n",
       "cylinders     171140  37.349442\n",
       "VIN           187549  40.930528\n",
       "condition     192940  42.107055\n",
       "size          321348  70.130703"
      ]
     },
     "execution_count": 20,
     "metadata": {},
     "output_type": "execute_result"
    }
   ],
   "source": [
    "missing_used = pd.concat([used_car.isnull().sum(), 100 * used_car.isnull().mean()], axis=1)\n",
    "missing_used.columns = ['count', '%']\n",
    "missing_used.sort_values(by='count')"
   ]
  },
  {
   "cell_type": "code",
   "execution_count": 21,
   "metadata": {},
   "outputs": [],
   "source": [
    "used_car.drop(['region', 'title_status', 'paint_color', 'id', 'url', 'region_url', 'VIN', 'image_url', 'lat', 'long', 'description', 'state', 'posting_date'], axis=1, inplace=True)"
   ]
  },
  {
   "cell_type": "code",
   "execution_count": 22,
   "metadata": {},
   "outputs": [],
   "source": [
    "used_car = used_car.dropna()"
   ]
  },
  {
   "cell_type": "code",
   "execution_count": 23,
   "metadata": {},
   "outputs": [
    {
     "name": "stdout",
     "output_type": "stream",
     "text": [
      "price           0\n",
      "year            0\n",
      "manufacturer    0\n",
      "model           0\n",
      "condition       0\n",
      "cylinders       0\n",
      "fuel            0\n",
      "odometer        0\n",
      "transmission    0\n",
      "drive           0\n",
      "size            0\n",
      "type            0\n",
      "dtype: int64\n"
     ]
    }
   ],
   "source": [
    "print(used_car.isnull().sum())"
   ]
  },
  {
   "cell_type": "code",
   "execution_count": 24,
   "metadata": {},
   "outputs": [
    {
     "data": {
      "text/plain": [
       "(90871, 12)"
      ]
     },
     "execution_count": 24,
     "metadata": {},
     "output_type": "execute_result"
    }
   ],
   "source": [
    "used_car.shape"
   ]
  },
  {
   "cell_type": "code",
   "execution_count": 25,
   "metadata": {},
   "outputs": [
    {
     "data": {
      "text/plain": [
       "3     1974\n",
       "4     2005\n",
       "14    2003\n",
       "19    2020\n",
       "47    2010\n",
       "Name: year, dtype: int32"
      ]
     },
     "execution_count": 25,
     "metadata": {},
     "output_type": "execute_result"
    }
   ],
   "source": [
    "used_car['year'] = used_car['year'].astype(int)\n",
    "used_car['year'].head()"
   ]
  },
  {
   "cell_type": "code",
   "execution_count": 26,
   "metadata": {},
   "outputs": [
    {
     "data": {
      "text/plain": [
       "3     1974\n",
       "4     2005\n",
       "14    2003\n",
       "19    2020\n",
       "47    2010\n",
       "Name: year, dtype: object"
      ]
     },
     "execution_count": 26,
     "metadata": {},
     "output_type": "execute_result"
    }
   ],
   "source": [
    "used_car['year'] = used_car['year'].astype(str)\n",
    "used_car['year'].head()"
   ]
  },
  {
   "cell_type": "code",
   "execution_count": 27,
   "metadata": {},
   "outputs": [
    {
     "data": {
      "text/plain": [
       "3     190000\n",
       "4     116000\n",
       "14    177000\n",
       "19     10500\n",
       "47     82000\n",
       "Name: odometer, dtype: int32"
      ]
     },
     "execution_count": 27,
     "metadata": {},
     "output_type": "execute_result"
    }
   ],
   "source": [
    "used_car['odometer'] = used_car['odometer'].astype(int)\n",
    "used_car['odometer'].head()"
   ]
  },
  {
   "cell_type": "code",
   "execution_count": 28,
   "metadata": {},
   "outputs": [
    {
     "data": {
      "text/html": [
       "<div>\n",
       "<style scoped>\n",
       "    .dataframe tbody tr th:only-of-type {\n",
       "        vertical-align: middle;\n",
       "    }\n",
       "\n",
       "    .dataframe tbody tr th {\n",
       "        vertical-align: top;\n",
       "    }\n",
       "\n",
       "    .dataframe thead th {\n",
       "        text-align: right;\n",
       "    }\n",
       "</style>\n",
       "<table border=\"1\" class=\"dataframe\">\n",
       "  <thead>\n",
       "    <tr style=\"text-align: right;\">\n",
       "      <th></th>\n",
       "      <th>price</th>\n",
       "      <th>year</th>\n",
       "      <th>manufacturer</th>\n",
       "      <th>model</th>\n",
       "      <th>condition</th>\n",
       "      <th>cylinders</th>\n",
       "      <th>fuel</th>\n",
       "      <th>odometer</th>\n",
       "      <th>transmission</th>\n",
       "      <th>drive</th>\n",
       "      <th>size</th>\n",
       "      <th>type</th>\n",
       "    </tr>\n",
       "  </thead>\n",
       "  <tbody>\n",
       "    <tr>\n",
       "      <th>3</th>\n",
       "      <td>2000</td>\n",
       "      <td>1974</td>\n",
       "      <td>chevrolet</td>\n",
       "      <td>c-10</td>\n",
       "      <td>good</td>\n",
       "      <td>4 cylinders</td>\n",
       "      <td>gas</td>\n",
       "      <td>190000</td>\n",
       "      <td>automatic</td>\n",
       "      <td>rwd</td>\n",
       "      <td>full-size</td>\n",
       "      <td>pickup</td>\n",
       "    </tr>\n",
       "    <tr>\n",
       "      <th>4</th>\n",
       "      <td>19500</td>\n",
       "      <td>2005</td>\n",
       "      <td>ford</td>\n",
       "      <td>f350 lariat</td>\n",
       "      <td>excellent</td>\n",
       "      <td>8 cylinders</td>\n",
       "      <td>diesel</td>\n",
       "      <td>116000</td>\n",
       "      <td>automatic</td>\n",
       "      <td>4wd</td>\n",
       "      <td>full-size</td>\n",
       "      <td>pickup</td>\n",
       "    </tr>\n",
       "    <tr>\n",
       "      <th>14</th>\n",
       "      <td>4900</td>\n",
       "      <td>2003</td>\n",
       "      <td>ford</td>\n",
       "      <td>expedition</td>\n",
       "      <td>good</td>\n",
       "      <td>8 cylinders</td>\n",
       "      <td>gas</td>\n",
       "      <td>177000</td>\n",
       "      <td>automatic</td>\n",
       "      <td>rwd</td>\n",
       "      <td>full-size</td>\n",
       "      <td>SUV</td>\n",
       "    </tr>\n",
       "    <tr>\n",
       "      <th>19</th>\n",
       "      <td>47000</td>\n",
       "      <td>2020</td>\n",
       "      <td>jeep</td>\n",
       "      <td>gladiator</td>\n",
       "      <td>like new</td>\n",
       "      <td>6 cylinders</td>\n",
       "      <td>gas</td>\n",
       "      <td>10500</td>\n",
       "      <td>automatic</td>\n",
       "      <td>4wd</td>\n",
       "      <td>full-size</td>\n",
       "      <td>pickup</td>\n",
       "    </tr>\n",
       "    <tr>\n",
       "      <th>47</th>\n",
       "      <td>6250</td>\n",
       "      <td>2010</td>\n",
       "      <td>ford</td>\n",
       "      <td>fusion sel</td>\n",
       "      <td>good</td>\n",
       "      <td>6 cylinders</td>\n",
       "      <td>gas</td>\n",
       "      <td>82000</td>\n",
       "      <td>automatic</td>\n",
       "      <td>fwd</td>\n",
       "      <td>full-size</td>\n",
       "      <td>sedan</td>\n",
       "    </tr>\n",
       "  </tbody>\n",
       "</table>\n",
       "</div>"
      ],
      "text/plain": [
       "    price  year manufacturer        model  condition    cylinders    fuel  \\\n",
       "3    2000  1974    chevrolet         c-10       good  4 cylinders     gas   \n",
       "4   19500  2005         ford  f350 lariat  excellent  8 cylinders  diesel   \n",
       "14   4900  2003         ford   expedition       good  8 cylinders     gas   \n",
       "19  47000  2020         jeep    gladiator   like new  6 cylinders     gas   \n",
       "47   6250  2010         ford   fusion sel       good  6 cylinders     gas   \n",
       "\n",
       "    odometer transmission drive       size    type  \n",
       "3     190000    automatic   rwd  full-size  pickup  \n",
       "4     116000    automatic   4wd  full-size  pickup  \n",
       "14    177000    automatic   rwd  full-size     SUV  \n",
       "19     10500    automatic   4wd  full-size  pickup  \n",
       "47     82000    automatic   fwd  full-size   sedan  "
      ]
     },
     "execution_count": 28,
     "metadata": {},
     "output_type": "execute_result"
    }
   ],
   "source": [
    "used_car.head()"
   ]
  },
  {
   "cell_type": "code",
   "execution_count": 29,
   "metadata": {},
   "outputs": [],
   "source": [
    "used_car[\"Model\"] = used_car['year'] + ' ' + used_car[\"manufacturer\"] + ' ' + used_car[\"model\"]"
   ]
  },
  {
   "cell_type": "code",
   "execution_count": 30,
   "metadata": {},
   "outputs": [
    {
     "data": {
      "text/plain": [
       "3       1974 chevrolet c-10\n",
       "4     2005 ford f350 lariat\n",
       "14     2003 ford expedition\n",
       "19      2020 jeep gladiator\n",
       "47     2010 ford fusion sel\n",
       "Name: Model, dtype: object"
      ]
     },
     "execution_count": 30,
     "metadata": {},
     "output_type": "execute_result"
    }
   ],
   "source": [
    "used_car['Model'].head()"
   ]
  },
  {
   "cell_type": "code",
   "execution_count": 31,
   "metadata": {},
   "outputs": [
    {
     "data": {
      "text/plain": [
       "array(['chevrolet', 'ford', 'jeep', 'mercedes-benz', 'gmc', 'bmw',\n",
       "       'honda', 'nissan', 'kia', 'ram', 'mitsubishi', 'hyundai', 'toyota',\n",
       "       'mazda', 'dodge', 'audi', 'infiniti', 'lexus', 'volkswagen',\n",
       "       'cadillac', 'pontiac', 'subaru', 'chrysler', 'fiat', 'rover',\n",
       "       'mini', 'mercury', 'buick', 'tesla', 'lincoln', 'jaguar', 'volvo',\n",
       "       'saturn', 'acura', 'porsche', 'land rover', 'alfa-romeo', 'datsun',\n",
       "       'ferrari', 'aston-martin', 'harley-davidson'], dtype=object)"
      ]
     },
     "execution_count": 31,
     "metadata": {},
     "output_type": "execute_result"
    }
   ],
   "source": [
    "used_car['manufacturer'].unique()"
   ]
  },
  {
   "cell_type": "code",
   "execution_count": 32,
   "metadata": {
    "scrolled": true
   },
   "outputs": [
    {
     "data": {
      "text/plain": [
       "array(['1974 chevrolet c-10', '2005 ford f350 lariat',\n",
       "       '2003 ford expedition', ..., '2010 chevrolet cargo van',\n",
       "       '2005 buick rendezvous cx', '2014 cadillac cts coupe awd'],\n",
       "      dtype=object)"
      ]
     },
     "execution_count": 32,
     "metadata": {},
     "output_type": "execute_result"
    }
   ],
   "source": [
    "used_model = used_car['Model'].unique()\n",
    "used_model"
   ]
  },
  {
   "cell_type": "code",
   "execution_count": 33,
   "metadata": {},
   "outputs": [
    {
     "data": {
      "text/html": [
       "<div>\n",
       "<style scoped>\n",
       "    .dataframe tbody tr th:only-of-type {\n",
       "        vertical-align: middle;\n",
       "    }\n",
       "\n",
       "    .dataframe tbody tr th {\n",
       "        vertical-align: top;\n",
       "    }\n",
       "\n",
       "    .dataframe thead th {\n",
       "        text-align: right;\n",
       "    }\n",
       "</style>\n",
       "<table border=\"1\" class=\"dataframe\">\n",
       "  <thead>\n",
       "    <tr style=\"text-align: right;\">\n",
       "      <th></th>\n",
       "      <th>price</th>\n",
       "      <th>year</th>\n",
       "      <th>manufacturer</th>\n",
       "      <th>model</th>\n",
       "      <th>condition</th>\n",
       "      <th>cylinders</th>\n",
       "      <th>fuel</th>\n",
       "      <th>odometer</th>\n",
       "      <th>transmission</th>\n",
       "      <th>drive</th>\n",
       "      <th>size</th>\n",
       "      <th>type</th>\n",
       "      <th>Model</th>\n",
       "    </tr>\n",
       "  </thead>\n",
       "  <tbody>\n",
       "    <tr>\n",
       "      <th>3</th>\n",
       "      <td>2000</td>\n",
       "      <td>1974</td>\n",
       "      <td>chevrolet</td>\n",
       "      <td>c-10</td>\n",
       "      <td>good</td>\n",
       "      <td>4 cylinders</td>\n",
       "      <td>gas</td>\n",
       "      <td>190000</td>\n",
       "      <td>automatic</td>\n",
       "      <td>rwd</td>\n",
       "      <td>full-size</td>\n",
       "      <td>pickup</td>\n",
       "      <td>1974 chevrolet c-10</td>\n",
       "    </tr>\n",
       "    <tr>\n",
       "      <th>4</th>\n",
       "      <td>19500</td>\n",
       "      <td>2005</td>\n",
       "      <td>ford</td>\n",
       "      <td>f350 lariat</td>\n",
       "      <td>excellent</td>\n",
       "      <td>8 cylinders</td>\n",
       "      <td>diesel</td>\n",
       "      <td>116000</td>\n",
       "      <td>automatic</td>\n",
       "      <td>4wd</td>\n",
       "      <td>full-size</td>\n",
       "      <td>pickup</td>\n",
       "      <td>2005 ford f350 lariat</td>\n",
       "    </tr>\n",
       "    <tr>\n",
       "      <th>14</th>\n",
       "      <td>4900</td>\n",
       "      <td>2003</td>\n",
       "      <td>ford</td>\n",
       "      <td>expedition</td>\n",
       "      <td>good</td>\n",
       "      <td>8 cylinders</td>\n",
       "      <td>gas</td>\n",
       "      <td>177000</td>\n",
       "      <td>automatic</td>\n",
       "      <td>rwd</td>\n",
       "      <td>full-size</td>\n",
       "      <td>SUV</td>\n",
       "      <td>2003 ford expedition</td>\n",
       "    </tr>\n",
       "    <tr>\n",
       "      <th>19</th>\n",
       "      <td>47000</td>\n",
       "      <td>2020</td>\n",
       "      <td>jeep</td>\n",
       "      <td>gladiator</td>\n",
       "      <td>like new</td>\n",
       "      <td>6 cylinders</td>\n",
       "      <td>gas</td>\n",
       "      <td>10500</td>\n",
       "      <td>automatic</td>\n",
       "      <td>4wd</td>\n",
       "      <td>full-size</td>\n",
       "      <td>pickup</td>\n",
       "      <td>2020 jeep gladiator</td>\n",
       "    </tr>\n",
       "    <tr>\n",
       "      <th>47</th>\n",
       "      <td>6250</td>\n",
       "      <td>2010</td>\n",
       "      <td>ford</td>\n",
       "      <td>fusion sel</td>\n",
       "      <td>good</td>\n",
       "      <td>6 cylinders</td>\n",
       "      <td>gas</td>\n",
       "      <td>82000</td>\n",
       "      <td>automatic</td>\n",
       "      <td>fwd</td>\n",
       "      <td>full-size</td>\n",
       "      <td>sedan</td>\n",
       "      <td>2010 ford fusion sel</td>\n",
       "    </tr>\n",
       "  </tbody>\n",
       "</table>\n",
       "</div>"
      ],
      "text/plain": [
       "    price  year manufacturer        model  condition    cylinders    fuel  \\\n",
       "3    2000  1974    chevrolet         c-10       good  4 cylinders     gas   \n",
       "4   19500  2005         ford  f350 lariat  excellent  8 cylinders  diesel   \n",
       "14   4900  2003         ford   expedition       good  8 cylinders     gas   \n",
       "19  47000  2020         jeep    gladiator   like new  6 cylinders     gas   \n",
       "47   6250  2010         ford   fusion sel       good  6 cylinders     gas   \n",
       "\n",
       "    odometer transmission drive       size    type                  Model  \n",
       "3     190000    automatic   rwd  full-size  pickup    1974 chevrolet c-10  \n",
       "4     116000    automatic   4wd  full-size  pickup  2005 ford f350 lariat  \n",
       "14    177000    automatic   rwd  full-size     SUV   2003 ford expedition  \n",
       "19     10500    automatic   4wd  full-size  pickup    2020 jeep gladiator  \n",
       "47     82000    automatic   fwd  full-size   sedan   2010 ford fusion sel  "
      ]
     },
     "execution_count": 33,
     "metadata": {},
     "output_type": "execute_result"
    }
   ],
   "source": [
    "used_car.head()"
   ]
  },
  {
   "cell_type": "code",
   "execution_count": 34,
   "metadata": {},
   "outputs": [
    {
     "data": {
      "text/html": [
       "<div>\n",
       "<style scoped>\n",
       "    .dataframe tbody tr th:only-of-type {\n",
       "        vertical-align: middle;\n",
       "    }\n",
       "\n",
       "    .dataframe tbody tr th {\n",
       "        vertical-align: top;\n",
       "    }\n",
       "\n",
       "    .dataframe thead th {\n",
       "        text-align: right;\n",
       "    }\n",
       "</style>\n",
       "<table border=\"1\" class=\"dataframe\">\n",
       "  <thead>\n",
       "    <tr style=\"text-align: right;\">\n",
       "      <th></th>\n",
       "      <th>price</th>\n",
       "      <th>year</th>\n",
       "      <th>condition</th>\n",
       "      <th>cylinders</th>\n",
       "      <th>fuel</th>\n",
       "      <th>odometer</th>\n",
       "      <th>transmission</th>\n",
       "      <th>drive</th>\n",
       "      <th>size</th>\n",
       "      <th>type</th>\n",
       "      <th>Model</th>\n",
       "    </tr>\n",
       "  </thead>\n",
       "  <tbody>\n",
       "    <tr>\n",
       "      <th>3</th>\n",
       "      <td>2000</td>\n",
       "      <td>1974</td>\n",
       "      <td>good</td>\n",
       "      <td>4 cylinders</td>\n",
       "      <td>gas</td>\n",
       "      <td>190000</td>\n",
       "      <td>automatic</td>\n",
       "      <td>rwd</td>\n",
       "      <td>full-size</td>\n",
       "      <td>pickup</td>\n",
       "      <td>1974 chevrolet c-10</td>\n",
       "    </tr>\n",
       "    <tr>\n",
       "      <th>4</th>\n",
       "      <td>19500</td>\n",
       "      <td>2005</td>\n",
       "      <td>excellent</td>\n",
       "      <td>8 cylinders</td>\n",
       "      <td>diesel</td>\n",
       "      <td>116000</td>\n",
       "      <td>automatic</td>\n",
       "      <td>4wd</td>\n",
       "      <td>full-size</td>\n",
       "      <td>pickup</td>\n",
       "      <td>2005 ford f350 lariat</td>\n",
       "    </tr>\n",
       "    <tr>\n",
       "      <th>14</th>\n",
       "      <td>4900</td>\n",
       "      <td>2003</td>\n",
       "      <td>good</td>\n",
       "      <td>8 cylinders</td>\n",
       "      <td>gas</td>\n",
       "      <td>177000</td>\n",
       "      <td>automatic</td>\n",
       "      <td>rwd</td>\n",
       "      <td>full-size</td>\n",
       "      <td>SUV</td>\n",
       "      <td>2003 ford expedition</td>\n",
       "    </tr>\n",
       "    <tr>\n",
       "      <th>19</th>\n",
       "      <td>47000</td>\n",
       "      <td>2020</td>\n",
       "      <td>like new</td>\n",
       "      <td>6 cylinders</td>\n",
       "      <td>gas</td>\n",
       "      <td>10500</td>\n",
       "      <td>automatic</td>\n",
       "      <td>4wd</td>\n",
       "      <td>full-size</td>\n",
       "      <td>pickup</td>\n",
       "      <td>2020 jeep gladiator</td>\n",
       "    </tr>\n",
       "    <tr>\n",
       "      <th>47</th>\n",
       "      <td>6250</td>\n",
       "      <td>2010</td>\n",
       "      <td>good</td>\n",
       "      <td>6 cylinders</td>\n",
       "      <td>gas</td>\n",
       "      <td>82000</td>\n",
       "      <td>automatic</td>\n",
       "      <td>fwd</td>\n",
       "      <td>full-size</td>\n",
       "      <td>sedan</td>\n",
       "      <td>2010 ford fusion sel</td>\n",
       "    </tr>\n",
       "  </tbody>\n",
       "</table>\n",
       "</div>"
      ],
      "text/plain": [
       "    price  year  condition    cylinders    fuel  odometer transmission drive  \\\n",
       "3    2000  1974       good  4 cylinders     gas    190000    automatic   rwd   \n",
       "4   19500  2005  excellent  8 cylinders  diesel    116000    automatic   4wd   \n",
       "14   4900  2003       good  8 cylinders     gas    177000    automatic   rwd   \n",
       "19  47000  2020   like new  6 cylinders     gas     10500    automatic   4wd   \n",
       "47   6250  2010       good  6 cylinders     gas     82000    automatic   fwd   \n",
       "\n",
       "         size    type                  Model  \n",
       "3   full-size  pickup    1974 chevrolet c-10  \n",
       "4   full-size  pickup  2005 ford f350 lariat  \n",
       "14  full-size     SUV   2003 ford expedition  \n",
       "19  full-size  pickup    2020 jeep gladiator  \n",
       "47  full-size   sedan   2010 ford fusion sel  "
      ]
     },
     "execution_count": 34,
     "metadata": {},
     "output_type": "execute_result"
    }
   ],
   "source": [
    "used_car.drop(['manufacturer', 'model'], axis =1, inplace=True)\n",
    "used_car.head()"
   ]
  },
  {
   "cell_type": "markdown",
   "metadata": {},
   "source": [
    "**Combining Data**"
   ]
  },
  {
   "cell_type": "code",
   "execution_count": 35,
   "metadata": {},
   "outputs": [
    {
     "name": "stderr",
     "output_type": "stream",
     "text": [
      "C:\\Users\\ryanp\\anaconda3\\lib\\site-packages\\ipykernel_launcher.py:1: SettingWithCopyWarning: \n",
      "A value is trying to be set on a copy of a slice from a DataFrame.\n",
      "Try using .loc[row_indexer,col_indexer] = value instead\n",
      "\n",
      "See the caveats in the documentation: https://pandas.pydata.org/pandas-docs/stable/user_guide/indexing.html#returning-a-view-versus-a-copy\n",
      "  \"\"\"Entry point for launching an IPython kernel.\n"
     ]
    },
    {
     "data": {
      "text/plain": [
       "32311    2018 Volvo V60 Cross Country Specs\n",
       "32312    2016 Volvo V60 Cross Country Specs\n",
       "32313    2016 Volvo V60 Cross Country Specs\n",
       "32314    2015 Volvo V60 Cross Country Specs\n",
       "32315    2015 Volvo V60 Cross Country Specs\n",
       "Name: Model, dtype: object"
      ]
     },
     "execution_count": 35,
     "metadata": {},
     "output_type": "execute_result"
    }
   ],
   "source": [
    "new_prices['Model'] = new_prices['Model'].str.split(':').str[0]\n",
    "new_prices['Model'].tail()"
   ]
  },
  {
   "cell_type": "code",
   "execution_count": 36,
   "metadata": {},
   "outputs": [
    {
     "data": {
      "text/plain": [
       "0    2019 Acura RDX Specs\n",
       "1    2019 Acura RDX Specs\n",
       "2    2019 Acura RDX Specs\n",
       "3    2019 Acura RDX Specs\n",
       "4    2019 Acura RDX Specs\n",
       "Name: Model, dtype: object"
      ]
     },
     "execution_count": 36,
     "metadata": {},
     "output_type": "execute_result"
    }
   ],
   "source": [
    "new_prices['Model'].head()"
   ]
  },
  {
   "cell_type": "code",
   "execution_count": 37,
   "metadata": {},
   "outputs": [
    {
     "name": "stderr",
     "output_type": "stream",
     "text": [
      "C:\\Users\\ryanp\\anaconda3\\lib\\site-packages\\ipykernel_launcher.py:2: SettingWithCopyWarning: \n",
      "A value is trying to be set on a copy of a slice from a DataFrame.\n",
      "Try using .loc[row_indexer,col_indexer] = value instead\n",
      "\n",
      "See the caveats in the documentation: https://pandas.pydata.org/pandas-docs/stable/user_guide/indexing.html#returning-a-view-versus-a-copy\n",
      "  \n"
     ]
    },
    {
     "data": {
      "text/plain": [
       "32311    2018 Volvo V60\n",
       "32312    2016 Volvo V60\n",
       "32313    2016 Volvo V60\n",
       "32314    2015 Volvo V60\n",
       "32315    2015 Volvo V60\n",
       "Name: Model, dtype: object"
      ]
     },
     "execution_count": 37,
     "metadata": {},
     "output_type": "execute_result"
    }
   ],
   "source": [
    "f = lambda x: x['Model'].strip(\"Cross Country Specs\")\n",
    "new_prices['Model'] = new_prices.apply(f, axis=1)\n",
    "new_prices['Model'].tail()"
   ]
  },
  {
   "cell_type": "code",
   "execution_count": 38,
   "metadata": {},
   "outputs": [
    {
     "data": {
      "text/plain": [
       "Model     3781\n",
       "MSRP     10228\n",
       "dtype: int64"
      ]
     },
     "execution_count": 38,
     "metadata": {},
     "output_type": "execute_result"
    }
   ],
   "source": [
    "new_prices.nunique()"
   ]
  },
  {
   "cell_type": "code",
   "execution_count": 39,
   "metadata": {
    "scrolled": true
   },
   "outputs": [
    {
     "name": "stderr",
     "output_type": "stream",
     "text": [
      "C:\\Users\\ryanp\\anaconda3\\lib\\site-packages\\ipykernel_launcher.py:2: SettingWithCopyWarning: \n",
      "A value is trying to be set on a copy of a slice from a DataFrame.\n",
      "Try using .loc[row_indexer,col_indexer] = value instead\n",
      "\n",
      "See the caveats in the documentation: https://pandas.pydata.org/pandas-docs/stable/user_guide/indexing.html#returning-a-view-versus-a-copy\n",
      "  \n"
     ]
    },
    {
     "data": {
      "text/plain": [
       "32311    2018 volvo v60\n",
       "32312    2016 volvo v60\n",
       "32313    2016 volvo v60\n",
       "32314    2015 volvo v60\n",
       "32315    2015 volvo v60\n",
       "Name: Model, dtype: object"
      ]
     },
     "execution_count": 39,
     "metadata": {},
     "output_type": "execute_result"
    }
   ],
   "source": [
    "f = lambda x: x['Model'].lower()\n",
    "new_prices['Model'] = new_prices.apply(f, axis=1)\n",
    "new_prices['Model'].tail()"
   ]
  },
  {
   "cell_type": "code",
   "execution_count": 40,
   "metadata": {},
   "outputs": [
    {
     "data": {
      "text/html": [
       "<div>\n",
       "<style scoped>\n",
       "    .dataframe tbody tr th:only-of-type {\n",
       "        vertical-align: middle;\n",
       "    }\n",
       "\n",
       "    .dataframe tbody tr th {\n",
       "        vertical-align: top;\n",
       "    }\n",
       "\n",
       "    .dataframe thead th {\n",
       "        text-align: right;\n",
       "    }\n",
       "</style>\n",
       "<table border=\"1\" class=\"dataframe\">\n",
       "  <thead>\n",
       "    <tr style=\"text-align: right;\">\n",
       "      <th></th>\n",
       "      <th>Model</th>\n",
       "      <th>MSRP</th>\n",
       "    </tr>\n",
       "  </thead>\n",
       "  <tbody>\n",
       "    <tr>\n",
       "      <th>0</th>\n",
       "      <td>2019 acura rdx</td>\n",
       "      <td>40600</td>\n",
       "    </tr>\n",
       "    <tr>\n",
       "      <th>1</th>\n",
       "      <td>2019 acura rdx</td>\n",
       "      <td>45500</td>\n",
       "    </tr>\n",
       "    <tr>\n",
       "      <th>2</th>\n",
       "      <td>2019 acura rdx</td>\n",
       "      <td>43600</td>\n",
       "    </tr>\n",
       "    <tr>\n",
       "      <th>3</th>\n",
       "      <td>2019 acura rdx</td>\n",
       "      <td>37400</td>\n",
       "    </tr>\n",
       "    <tr>\n",
       "      <th>4</th>\n",
       "      <td>2019 acura rdx</td>\n",
       "      <td>42600</td>\n",
       "    </tr>\n",
       "  </tbody>\n",
       "</table>\n",
       "</div>"
      ],
      "text/plain": [
       "            Model   MSRP\n",
       "0  2019 acura rdx  40600\n",
       "1  2019 acura rdx  45500\n",
       "2  2019 acura rdx  43600\n",
       "3  2019 acura rdx  37400\n",
       "4  2019 acura rdx  42600"
      ]
     },
     "execution_count": 40,
     "metadata": {},
     "output_type": "execute_result"
    }
   ],
   "source": [
    "new_prices.head()"
   ]
  },
  {
   "cell_type": "code",
   "execution_count": 41,
   "metadata": {
    "scrolled": true
   },
   "outputs": [
    {
     "data": {
      "text/html": [
       "<div>\n",
       "<style scoped>\n",
       "    .dataframe tbody tr th:only-of-type {\n",
       "        vertical-align: middle;\n",
       "    }\n",
       "\n",
       "    .dataframe tbody tr th {\n",
       "        vertical-align: top;\n",
       "    }\n",
       "\n",
       "    .dataframe thead th {\n",
       "        text-align: right;\n",
       "    }\n",
       "</style>\n",
       "<table border=\"1\" class=\"dataframe\">\n",
       "  <thead>\n",
       "    <tr style=\"text-align: right;\">\n",
       "      <th></th>\n",
       "      <th>Model</th>\n",
       "      <th>MSRP</th>\n",
       "      <th>price</th>\n",
       "      <th>year</th>\n",
       "      <th>condition</th>\n",
       "      <th>cylinders</th>\n",
       "      <th>fuel</th>\n",
       "      <th>odometer</th>\n",
       "      <th>transmission</th>\n",
       "      <th>drive</th>\n",
       "      <th>size</th>\n",
       "      <th>type</th>\n",
       "    </tr>\n",
       "  </thead>\n",
       "  <tbody>\n",
       "    <tr>\n",
       "      <th>0</th>\n",
       "      <td>2019 acura rdx</td>\n",
       "      <td>40600</td>\n",
       "      <td>36250</td>\n",
       "      <td>2019</td>\n",
       "      <td>excellent</td>\n",
       "      <td>4 cylinders</td>\n",
       "      <td>gas</td>\n",
       "      <td>31250</td>\n",
       "      <td>automatic</td>\n",
       "      <td>4wd</td>\n",
       "      <td>mid-size</td>\n",
       "      <td>SUV</td>\n",
       "    </tr>\n",
       "    <tr>\n",
       "      <th>1</th>\n",
       "      <td>2019 acura rdx</td>\n",
       "      <td>45500</td>\n",
       "      <td>36250</td>\n",
       "      <td>2019</td>\n",
       "      <td>excellent</td>\n",
       "      <td>4 cylinders</td>\n",
       "      <td>gas</td>\n",
       "      <td>31250</td>\n",
       "      <td>automatic</td>\n",
       "      <td>4wd</td>\n",
       "      <td>mid-size</td>\n",
       "      <td>SUV</td>\n",
       "    </tr>\n",
       "    <tr>\n",
       "      <th>2</th>\n",
       "      <td>2019 acura rdx</td>\n",
       "      <td>43600</td>\n",
       "      <td>36250</td>\n",
       "      <td>2019</td>\n",
       "      <td>excellent</td>\n",
       "      <td>4 cylinders</td>\n",
       "      <td>gas</td>\n",
       "      <td>31250</td>\n",
       "      <td>automatic</td>\n",
       "      <td>4wd</td>\n",
       "      <td>mid-size</td>\n",
       "      <td>SUV</td>\n",
       "    </tr>\n",
       "    <tr>\n",
       "      <th>3</th>\n",
       "      <td>2019 acura rdx</td>\n",
       "      <td>37400</td>\n",
       "      <td>36250</td>\n",
       "      <td>2019</td>\n",
       "      <td>excellent</td>\n",
       "      <td>4 cylinders</td>\n",
       "      <td>gas</td>\n",
       "      <td>31250</td>\n",
       "      <td>automatic</td>\n",
       "      <td>4wd</td>\n",
       "      <td>mid-size</td>\n",
       "      <td>SUV</td>\n",
       "    </tr>\n",
       "    <tr>\n",
       "      <th>4</th>\n",
       "      <td>2019 acura rdx</td>\n",
       "      <td>42600</td>\n",
       "      <td>36250</td>\n",
       "      <td>2019</td>\n",
       "      <td>excellent</td>\n",
       "      <td>4 cylinders</td>\n",
       "      <td>gas</td>\n",
       "      <td>31250</td>\n",
       "      <td>automatic</td>\n",
       "      <td>4wd</td>\n",
       "      <td>mid-size</td>\n",
       "      <td>SUV</td>\n",
       "    </tr>\n",
       "    <tr>\n",
       "      <th>...</th>\n",
       "      <td>...</td>\n",
       "      <td>...</td>\n",
       "      <td>...</td>\n",
       "      <td>...</td>\n",
       "      <td>...</td>\n",
       "      <td>...</td>\n",
       "      <td>...</td>\n",
       "      <td>...</td>\n",
       "      <td>...</td>\n",
       "      <td>...</td>\n",
       "      <td>...</td>\n",
       "      <td>...</td>\n",
       "    </tr>\n",
       "    <tr>\n",
       "      <th>304065</th>\n",
       "      <td>2003 volvo xc90</td>\n",
       "      <td>35100</td>\n",
       "      <td>3500</td>\n",
       "      <td>2003</td>\n",
       "      <td>good</td>\n",
       "      <td>5 cylinders</td>\n",
       "      <td>gas</td>\n",
       "      <td>205000</td>\n",
       "      <td>automatic</td>\n",
       "      <td>4wd</td>\n",
       "      <td>full-size</td>\n",
       "      <td>SUV</td>\n",
       "    </tr>\n",
       "    <tr>\n",
       "      <th>304066</th>\n",
       "      <td>2003 volvo xc90</td>\n",
       "      <td>35100</td>\n",
       "      <td>2000</td>\n",
       "      <td>2003</td>\n",
       "      <td>fair</td>\n",
       "      <td>6 cylinders</td>\n",
       "      <td>gas</td>\n",
       "      <td>109000</td>\n",
       "      <td>automatic</td>\n",
       "      <td>4wd</td>\n",
       "      <td>mid-size</td>\n",
       "      <td>SUV</td>\n",
       "    </tr>\n",
       "    <tr>\n",
       "      <th>304067</th>\n",
       "      <td>1998 volvo s90</td>\n",
       "      <td>34300</td>\n",
       "      <td>2100</td>\n",
       "      <td>1998</td>\n",
       "      <td>good</td>\n",
       "      <td>6 cylinders</td>\n",
       "      <td>gas</td>\n",
       "      <td>144000</td>\n",
       "      <td>automatic</td>\n",
       "      <td>rwd</td>\n",
       "      <td>full-size</td>\n",
       "      <td>sedan</td>\n",
       "    </tr>\n",
       "    <tr>\n",
       "      <th>304068</th>\n",
       "      <td>1998 volvo s90</td>\n",
       "      <td>34300</td>\n",
       "      <td>2500</td>\n",
       "      <td>1998</td>\n",
       "      <td>good</td>\n",
       "      <td>6 cylinders</td>\n",
       "      <td>gas</td>\n",
       "      <td>160000</td>\n",
       "      <td>automatic</td>\n",
       "      <td>rwd</td>\n",
       "      <td>full-size</td>\n",
       "      <td>sedan</td>\n",
       "    </tr>\n",
       "    <tr>\n",
       "      <th>304069</th>\n",
       "      <td>1998 volvo s90</td>\n",
       "      <td>34300</td>\n",
       "      <td>3500</td>\n",
       "      <td>1998</td>\n",
       "      <td>good</td>\n",
       "      <td>6 cylinders</td>\n",
       "      <td>gas</td>\n",
       "      <td>170000</td>\n",
       "      <td>automatic</td>\n",
       "      <td>rwd</td>\n",
       "      <td>mid-size</td>\n",
       "      <td>sedan</td>\n",
       "    </tr>\n",
       "  </tbody>\n",
       "</table>\n",
       "<p>304070 rows × 12 columns</p>\n",
       "</div>"
      ],
      "text/plain": [
       "                  Model   MSRP  price  year  condition    cylinders fuel  \\\n",
       "0        2019 acura rdx  40600  36250  2019  excellent  4 cylinders  gas   \n",
       "1        2019 acura rdx  45500  36250  2019  excellent  4 cylinders  gas   \n",
       "2        2019 acura rdx  43600  36250  2019  excellent  4 cylinders  gas   \n",
       "3        2019 acura rdx  37400  36250  2019  excellent  4 cylinders  gas   \n",
       "4        2019 acura rdx  42600  36250  2019  excellent  4 cylinders  gas   \n",
       "...                 ...    ...    ...   ...        ...          ...  ...   \n",
       "304065  2003 volvo xc90  35100   3500  2003       good  5 cylinders  gas   \n",
       "304066  2003 volvo xc90  35100   2000  2003       fair  6 cylinders  gas   \n",
       "304067   1998 volvo s90  34300   2100  1998       good  6 cylinders  gas   \n",
       "304068   1998 volvo s90  34300   2500  1998       good  6 cylinders  gas   \n",
       "304069   1998 volvo s90  34300   3500  1998       good  6 cylinders  gas   \n",
       "\n",
       "        odometer transmission drive       size   type  \n",
       "0          31250    automatic   4wd   mid-size    SUV  \n",
       "1          31250    automatic   4wd   mid-size    SUV  \n",
       "2          31250    automatic   4wd   mid-size    SUV  \n",
       "3          31250    automatic   4wd   mid-size    SUV  \n",
       "4          31250    automatic   4wd   mid-size    SUV  \n",
       "...          ...          ...   ...        ...    ...  \n",
       "304065    205000    automatic   4wd  full-size    SUV  \n",
       "304066    109000    automatic   4wd   mid-size    SUV  \n",
       "304067    144000    automatic   rwd  full-size  sedan  \n",
       "304068    160000    automatic   rwd  full-size  sedan  \n",
       "304069    170000    automatic   rwd   mid-size  sedan  \n",
       "\n",
       "[304070 rows x 12 columns]"
      ]
     },
     "execution_count": 41,
     "metadata": {},
     "output_type": "execute_result"
    }
   ],
   "source": [
    "full = pd.merge(new_prices, used_car)\n",
    "full"
   ]
  },
  {
   "cell_type": "code",
   "execution_count": 42,
   "metadata": {},
   "outputs": [
    {
     "data": {
      "text/plain": [
       "(304070, 12)"
      ]
     },
     "execution_count": 42,
     "metadata": {},
     "output_type": "execute_result"
    }
   ],
   "source": [
    "full.shape"
   ]
  },
  {
   "cell_type": "code",
   "execution_count": 43,
   "metadata": {},
   "outputs": [
    {
     "data": {
      "text/plain": [
       "Model           0\n",
       "MSRP            0\n",
       "price           0\n",
       "year            0\n",
       "condition       0\n",
       "cylinders       0\n",
       "fuel            0\n",
       "odometer        0\n",
       "transmission    0\n",
       "drive           0\n",
       "size            0\n",
       "type            0\n",
       "dtype: int64"
      ]
     },
     "execution_count": 43,
     "metadata": {},
     "output_type": "execute_result"
    }
   ],
   "source": [
    "full.isnull().sum()"
   ]
  },
  {
   "cell_type": "code",
   "execution_count": 44,
   "metadata": {},
   "outputs": [
    {
     "data": {
      "text/plain": [
       "Model           object\n",
       "MSRP             int32\n",
       "price            int64\n",
       "year            object\n",
       "condition       object\n",
       "cylinders       object\n",
       "fuel            object\n",
       "odometer         int32\n",
       "transmission    object\n",
       "drive           object\n",
       "size            object\n",
       "type            object\n",
       "dtype: object"
      ]
     },
     "execution_count": 44,
     "metadata": {},
     "output_type": "execute_result"
    }
   ],
   "source": [
    "full.dtypes"
   ]
  },
  {
   "cell_type": "code",
   "execution_count": 124,
   "metadata": {},
   "outputs": [
    {
     "data": {
      "text/plain": [
       "array(['excellent', 'like new', 'good', 'new', 'fair', 'salvage'],\n",
       "      dtype=object)"
      ]
     },
     "execution_count": 124,
     "metadata": {},
     "output_type": "execute_result"
    }
   ],
   "source": [
    "full['condition'].unique()"
   ]
  },
  {
   "cell_type": "code",
   "execution_count": 125,
   "metadata": {},
   "outputs": [
    {
     "data": {
      "text/plain": [
       "array(['4 cylinders', '6 cylinders', '10 cylinders', '8 cylinders',\n",
       "       'other', '3 cylinders', '5 cylinders'], dtype=object)"
      ]
     },
     "execution_count": 125,
     "metadata": {},
     "output_type": "execute_result"
    }
   ],
   "source": [
    "full['cylinders'].unique()"
   ]
  },
  {
   "cell_type": "code",
   "execution_count": 126,
   "metadata": {},
   "outputs": [
    {
     "data": {
      "text/plain": [
       "array(['gas', 'diesel', 'hybrid', 'electric', 'other'], dtype=object)"
      ]
     },
     "execution_count": 126,
     "metadata": {},
     "output_type": "execute_result"
    }
   ],
   "source": [
    "full['fuel'].unique()"
   ]
  },
  {
   "cell_type": "code",
   "execution_count": 127,
   "metadata": {},
   "outputs": [
    {
     "data": {
      "text/plain": [
       "array(['automatic', 'manual', 'other'], dtype=object)"
      ]
     },
     "execution_count": 127,
     "metadata": {},
     "output_type": "execute_result"
    }
   ],
   "source": [
    "full['transmission'].unique()"
   ]
  },
  {
   "cell_type": "code",
   "execution_count": 128,
   "metadata": {},
   "outputs": [
    {
     "data": {
      "text/plain": [
       "array(['4wd', 'fwd', 'rwd'], dtype=object)"
      ]
     },
     "execution_count": 128,
     "metadata": {},
     "output_type": "execute_result"
    }
   ],
   "source": [
    "full['drive'].unique()"
   ]
  },
  {
   "cell_type": "code",
   "execution_count": 129,
   "metadata": {},
   "outputs": [
    {
     "data": {
      "text/plain": [
       "array(['mid-size', 'full-size', 'compact', 'sub-compact'], dtype=object)"
      ]
     },
     "execution_count": 129,
     "metadata": {},
     "output_type": "execute_result"
    }
   ],
   "source": [
    "full['size'].unique()"
   ]
  },
  {
   "cell_type": "code",
   "execution_count": 130,
   "metadata": {},
   "outputs": [
    {
     "data": {
      "text/plain": [
       "array(['SUV', 'sedan', 'hatchback', 'mini-van', 'wagon', 'truck',\n",
       "       'offroad', 'convertible', 'coupe', 'pickup', 'other', 'van'],\n",
       "      dtype=object)"
      ]
     },
     "execution_count": 130,
     "metadata": {},
     "output_type": "execute_result"
    }
   ],
   "source": [
    "full['type'].unique()"
   ]
  },
  {
   "cell_type": "code",
   "execution_count": 45,
   "metadata": {},
   "outputs": [],
   "source": [
    "full['year'] = full['year'].astype(int)\n",
    "full['price'] = full['price'].astype(int)\n",
    "full['odometer'] = full['odometer'].astype(int)\n",
    "full['MSRP'] = full['MSRP'].astype(int)"
   ]
  },
  {
   "cell_type": "code",
   "execution_count": 46,
   "metadata": {},
   "outputs": [
    {
     "data": {
      "text/plain": [
       "Model           object\n",
       "MSRP             int32\n",
       "price            int32\n",
       "year             int32\n",
       "condition       object\n",
       "cylinders       object\n",
       "fuel            object\n",
       "odometer         int32\n",
       "transmission    object\n",
       "drive           object\n",
       "size            object\n",
       "type            object\n",
       "dtype: object"
      ]
     },
     "execution_count": 46,
     "metadata": {},
     "output_type": "execute_result"
    }
   ],
   "source": [
    "full.dtypes"
   ]
  },
  {
   "cell_type": "code",
   "execution_count": 49,
   "metadata": {},
   "outputs": [
    {
     "data": {
      "text/plain": [
       "Model           25930\n",
       "MSRP            25930\n",
       "price           25930\n",
       "year            25930\n",
       "condition       25930\n",
       "cylinders       25930\n",
       "fuel            25930\n",
       "odometer        25930\n",
       "transmission    25930\n",
       "drive           25930\n",
       "size            25930\n",
       "type            25930\n",
       "dtype: int64"
      ]
     },
     "execution_count": 49,
     "metadata": {},
     "output_type": "execute_result"
    }
   ],
   "source": [
    "full[full['price'] == 0].count()"
   ]
  },
  {
   "cell_type": "code",
   "execution_count": 51,
   "metadata": {},
   "outputs": [],
   "source": [
    "full = full[full['price'] != 0]"
   ]
  },
  {
   "cell_type": "code",
   "execution_count": 52,
   "metadata": {},
   "outputs": [
    {
     "data": {
      "text/plain": [
       "Model           46\n",
       "MSRP            46\n",
       "price           46\n",
       "year            46\n",
       "condition       46\n",
       "cylinders       46\n",
       "fuel            46\n",
       "odometer        46\n",
       "transmission    46\n",
       "drive           46\n",
       "size            46\n",
       "type            46\n",
       "dtype: int64"
      ]
     },
     "execution_count": 52,
     "metadata": {},
     "output_type": "execute_result"
    }
   ],
   "source": [
    "full[full['price'] < 0].count()"
   ]
  },
  {
   "cell_type": "code",
   "execution_count": 53,
   "metadata": {},
   "outputs": [],
   "source": [
    "full = full[full['price'] > 0]"
   ]
  },
  {
   "cell_type": "code",
   "execution_count": 54,
   "metadata": {},
   "outputs": [
    {
     "data": {
      "text/plain": [
       "(278094, 12)"
      ]
     },
     "execution_count": 54,
     "metadata": {},
     "output_type": "execute_result"
    }
   ],
   "source": [
    "full.shape"
   ]
  },
  {
   "cell_type": "code",
   "execution_count": 55,
   "metadata": {},
   "outputs": [
    {
     "data": {
      "text/plain": [
       "Model           0\n",
       "MSRP            0\n",
       "price           0\n",
       "year            0\n",
       "condition       0\n",
       "cylinders       0\n",
       "fuel            0\n",
       "odometer        0\n",
       "transmission    0\n",
       "drive           0\n",
       "size            0\n",
       "type            0\n",
       "dtype: int64"
      ]
     },
     "execution_count": 55,
     "metadata": {},
     "output_type": "execute_result"
    }
   ],
   "source": [
    "full[full['MSRP'] < 0].count()"
   ]
  },
  {
   "cell_type": "code",
   "execution_count": 56,
   "metadata": {},
   "outputs": [
    {
     "data": {
      "text/plain": [
       "Model           0\n",
       "MSRP            0\n",
       "price           0\n",
       "year            0\n",
       "condition       0\n",
       "cylinders       0\n",
       "fuel            0\n",
       "odometer        0\n",
       "transmission    0\n",
       "drive           0\n",
       "size            0\n",
       "type            0\n",
       "dtype: int64"
      ]
     },
     "execution_count": 56,
     "metadata": {},
     "output_type": "execute_result"
    }
   ],
   "source": [
    "full[full['odometer'] < 0].count()"
   ]
  },
  {
   "cell_type": "code",
   "execution_count": 60,
   "metadata": {},
   "outputs": [
    {
     "data": {
      "text/plain": [
       "Model           0\n",
       "MSRP            0\n",
       "price           0\n",
       "year            0\n",
       "condition       0\n",
       "cylinders       0\n",
       "fuel            0\n",
       "odometer        0\n",
       "transmission    0\n",
       "drive           0\n",
       "size            0\n",
       "type            0\n",
       "dtype: int64"
      ]
     },
     "execution_count": 60,
     "metadata": {},
     "output_type": "execute_result"
    }
   ],
   "source": [
    "full[full['year'] < 0].count()"
   ]
  },
  {
   "cell_type": "code",
   "execution_count": 68,
   "metadata": {},
   "outputs": [
    {
     "data": {
      "text/plain": [
       "16000.0"
      ]
     },
     "execution_count": 68,
     "metadata": {},
     "output_type": "execute_result"
    }
   ],
   "source": [
    "price_Q1 = np.quantile(full['price'],0.25)\n",
    "price_Q3 = np.quantile(full['price'],0.75)\n",
    "price_IQR = price_Q3 - price_Q1\n",
    "price_IQR"
   ]
  },
  {
   "cell_type": "code",
   "execution_count": 107,
   "metadata": {},
   "outputs": [
    {
     "name": "stdout",
     "output_type": "stream",
     "text": [
      "Percentiles: 25th=7995.000, 75th=23995.000, IQR=16000.000\n"
     ]
    }
   ],
   "source": [
    "cut_off = price_IQR * 1.5\n",
    "price_lower, price_upper = price_Q1 - cut_off, price_Q3 + cut_off\n",
    "print('Percentiles: 25th=%.3f, 75th=%.3f, IQR=%.3f' % (price_Q1, price_Q3, price_IQR))"
   ]
  },
  {
   "cell_type": "code",
   "execution_count": 111,
   "metadata": {},
   "outputs": [
    {
     "name": "stdout",
     "output_type": "stream",
     "text": [
      "outliers: 3873\n"
     ]
    }
   ],
   "source": [
    "price_outliers = [x for x in full['price'] if x < price_lower or x > price_upper]\n",
    "print('outliers: %d' % len(price_outliers))"
   ]
  },
  {
   "cell_type": "code",
   "execution_count": 114,
   "metadata": {},
   "outputs": [
    {
     "name": "stdout",
     "output_type": "stream",
     "text": [
      "Non-outlier: 274121\n"
     ]
    }
   ],
   "source": [
    "price_removed = [x for x in full['price'] if x > price_lower and x < price_upper]\n",
    "print('Non-outlier: %d' % len(price_removed))"
   ]
  },
  {
   "cell_type": "code",
   "execution_count": 120,
   "metadata": {},
   "outputs": [
    {
     "data": {
      "text/plain": [
       "<matplotlib.axes._subplots.AxesSubplot at 0x1bb08636208>"
      ]
     },
     "execution_count": 120,
     "metadata": {},
     "output_type": "execute_result"
    },
    {
     "data": {
      "image/png": "[encoded data removed]",
      "text/plain": [
       "<Figure size 432x288 with 1 Axes>"
      ]
     },
     "metadata": {
      "needs_background": "light"
     },
     "output_type": "display_data"
    }
   ],
   "source": [
    "sns.boxplot(x=price_removed)"
   ]
  },
  {
   "cell_type": "code",
   "execution_count": 115,
   "metadata": {},
   "outputs": [
    {
     "name": "stdout",
     "output_type": "stream",
     "text": [
      "Percentiles: 25th=26485.000, 75th=38385.000, IQR=11900.000\n",
      "outliers: 3430\n",
      "Non-outlier: 274556\n"
     ]
    }
   ],
   "source": [
    "MSRP_Q1 = np.quantile(full['MSRP'],0.25)\n",
    "MSRP_Q3 = np.quantile(full['MSRP'],0.75)\n",
    "MSRP_IQR = MSRP_Q3 - MSRP_Q1\n",
    "MSRP_cut_off = MSRP_IQR * 1.5\n",
    "MSRP_lower, MSRP_upper = MSRP_Q1 - MSRP_cut_off, MSRP_Q3 + MSRP_cut_off\n",
    "MSRP_outliers = [x for x in full['MSRP'] if x < MSRP_lower or x > MSRP_upper]\n",
    "MSRP_removed = [x for x in full['MSRP'] if x > MSRP_lower and x < MSRP_upper]\n",
    "print('Percentiles: 25th=%.3f, 75th=%.3f, IQR=%.3f' % (MSRP_Q1, MSRP_Q3, MSRP_IQR))\n",
    "print('outliers: %d' % len(MSRP_outliers))\n",
    "print('Non-outlier: %d' % len(MSRP_removed))"
   ]
  },
  {
   "cell_type": "code",
   "execution_count": 121,
   "metadata": {},
   "outputs": [
    {
     "data": {
      "text/plain": [
       "<matplotlib.axes._subplots.AxesSubplot at 0x1baf43d5048>"
      ]
     },
     "execution_count": 121,
     "metadata": {},
     "output_type": "execute_result"
    },
    {
     "data": {
      "image/png": "[encoded data removed]",
      "text/plain": [
       "<Figure size 432x288 with 1 Axes>"
      ]
     },
     "metadata": {
      "needs_background": "light"
     },
     "output_type": "display_data"
    }
   ],
   "source": [
    "sns.boxplot(x=MSRP_removed)"
   ]
  },
  {
   "cell_type": "code",
   "execution_count": 116,
   "metadata": {},
   "outputs": [
    {
     "name": "stdout",
     "output_type": "stream",
     "text": [
      "Percentiles: 25th=78137.000, 75th=158000.000, IQR=79863.000\n",
      "outliers: 3694\n",
      "Non-outlier: 274381\n"
     ]
    }
   ],
   "source": [
    "odo_Q1 = np.quantile(full['odometer'],0.25)\n",
    "odo_Q3 = np.quantile(full['odometer'],0.75)\n",
    "odo_IQR = odo_Q3 - odo_Q1\n",
    "odo_cut_off = odo_IQR * 1.5\n",
    "odo_lower, odo_upper = odo_Q1 - odo_cut_off, odo_Q3 + odo_cut_off\n",
    "odo_outliers = [x for x in full['odometer'] if x < odo_lower or x > odo_upper]\n",
    "odo_removed = [x for x in full['odometer'] if x > odo_lower and x < odo_upper]\n",
    "print('Percentiles: 25th=%.3f, 75th=%.3f, IQR=%.3f' % (odo_Q1, odo_Q3, odo_IQR))\n",
    "print('outliers: %d' % len(odo_outliers))\n",
    "print('Non-outlier: %d' % len(odo_removed))"
   ]
  },
  {
   "cell_type": "code",
   "execution_count": 122,
   "metadata": {},
   "outputs": [
    {
     "data": {
      "text/plain": [
       "<matplotlib.axes._subplots.AxesSubplot at 0x1bb0837e308>"
      ]
     },
     "execution_count": 122,
     "metadata": {},
     "output_type": "execute_result"
    },
    {
     "data": {
      "image/png": "[encoded data removed]",
      "text/plain": [
       "<Figure size 432x288 with 1 Axes>"
      ]
     },
     "metadata": {
      "needs_background": "light"
     },
     "output_type": "display_data"
    }
   ],
   "source": [
    "sns.boxplot(x=odo_removed)"
   ]
  },
  {
   "cell_type": "markdown",
   "metadata": {},
   "source": [
    "**EDA**"
   ]
  },
  {
   "cell_type": "code",
   "execution_count": 123,
   "metadata": {},
   "outputs": [
    {
     "ename": "ValueError",
     "evalue": "arrays must all be same length",
     "output_type": "error",
     "traceback": [
      "\u001b[1;31m---------------------------------------------------------------------------\u001b[0m",
      "\u001b[1;31mValueError\u001b[0m                                Traceback (most recent call last)",
      "\u001b[1;32m<ipython-input-123-b66e82458a4f>\u001b[0m in \u001b[0;36m<module>\u001b[1;34m\u001b[0m\n\u001b[1;32m----> 1\u001b[1;33m \u001b[0msns\u001b[0m\u001b[1;33m.\u001b[0m\u001b[0mscatterplot\u001b[0m\u001b[1;33m(\u001b[0m\u001b[0mx\u001b[0m\u001b[1;33m=\u001b[0m\u001b[0mprice_removed\u001b[0m\u001b[1;33m,\u001b[0m \u001b[0my\u001b[0m\u001b[1;33m=\u001b[0m\u001b[0mMSRP_removed\u001b[0m\u001b[1;33m)\u001b[0m\u001b[1;33m\u001b[0m\u001b[1;33m\u001b[0m\u001b[0m\n\u001b[0m",
      "\u001b[1;32m~\\anaconda3\\lib\\site-packages\\seaborn\\relational.py\u001b[0m in \u001b[0;36mscatterplot\u001b[1;34m(x, y, hue, style, size, data, palette, hue_order, hue_norm, sizes, size_order, size_norm, markers, style_order, x_bins, y_bins, units, estimator, ci, n_boot, alpha, x_jitter, y_jitter, legend, ax, **kwargs)\u001b[0m\n\u001b[0;32m   1400\u001b[0m         \u001b[0mx_bins\u001b[0m\u001b[1;33m=\u001b[0m\u001b[0mx_bins\u001b[0m\u001b[1;33m,\u001b[0m \u001b[0my_bins\u001b[0m\u001b[1;33m=\u001b[0m\u001b[0my_bins\u001b[0m\u001b[1;33m,\u001b[0m\u001b[1;33m\u001b[0m\u001b[1;33m\u001b[0m\u001b[0m\n\u001b[0;32m   1401\u001b[0m         \u001b[0mestimator\u001b[0m\u001b[1;33m=\u001b[0m\u001b[0mestimator\u001b[0m\u001b[1;33m,\u001b[0m \u001b[0mci\u001b[0m\u001b[1;33m=\u001b[0m\u001b[0mci\u001b[0m\u001b[1;33m,\u001b[0m \u001b[0mn_boot\u001b[0m\u001b[1;33m=\u001b[0m\u001b[0mn_boot\u001b[0m\u001b[1;33m,\u001b[0m\u001b[1;33m\u001b[0m\u001b[1;33m\u001b[0m\u001b[0m\n\u001b[1;32m-> 1402\u001b[1;33m         \u001b[0malpha\u001b[0m\u001b[1;33m=\u001b[0m\u001b[0malpha\u001b[0m\u001b[1;33m,\u001b[0m \u001b[0mx_jitter\u001b[0m\u001b[1;33m=\u001b[0m\u001b[0mx_jitter\u001b[0m\u001b[1;33m,\u001b[0m \u001b[0my_jitter\u001b[0m\u001b[1;33m=\u001b[0m\u001b[0my_jitter\u001b[0m\u001b[1;33m,\u001b[0m \u001b[0mlegend\u001b[0m\u001b[1;33m=\u001b[0m\u001b[0mlegend\u001b[0m\u001b[1;33m,\u001b[0m\u001b[1;33m\u001b[0m\u001b[1;33m\u001b[0m\u001b[0m\n\u001b[0m\u001b[0;32m   1403\u001b[0m     )\n\u001b[0;32m   1404\u001b[0m \u001b[1;33m\u001b[0m\u001b[0m\n",
      "\u001b[1;32m~\\anaconda3\\lib\\site-packages\\seaborn\\relational.py\u001b[0m in \u001b[0;36m__init__\u001b[1;34m(self, x, y, hue, size, style, data, palette, hue_order, hue_norm, sizes, size_order, size_norm, dashes, markers, style_order, x_bins, y_bins, units, estimator, ci, n_boot, alpha, x_jitter, y_jitter, legend)\u001b[0m\n\u001b[0;32m    889\u001b[0m \u001b[1;33m\u001b[0m\u001b[0m\n\u001b[0;32m    890\u001b[0m         plot_data = self.establish_variables(\n\u001b[1;32m--> 891\u001b[1;33m             \u001b[0mx\u001b[0m\u001b[1;33m,\u001b[0m \u001b[0my\u001b[0m\u001b[1;33m,\u001b[0m \u001b[0mhue\u001b[0m\u001b[1;33m,\u001b[0m \u001b[0msize\u001b[0m\u001b[1;33m,\u001b[0m \u001b[0mstyle\u001b[0m\u001b[1;33m,\u001b[0m \u001b[0munits\u001b[0m\u001b[1;33m,\u001b[0m \u001b[0mdata\u001b[0m\u001b[1;33m\u001b[0m\u001b[1;33m\u001b[0m\u001b[0m\n\u001b[0m\u001b[0;32m    892\u001b[0m         )\n\u001b[0;32m    893\u001b[0m \u001b[1;33m\u001b[0m\u001b[0m\n",
      "\u001b[1;32m~\\anaconda3\\lib\\site-packages\\seaborn\\relational.py\u001b[0m in \u001b[0;36mestablish_variables\u001b[1;34m(self, x, y, hue, size, style, units, data)\u001b[0m\n\u001b[0;32m    155\u001b[0m                 \u001b[0munits\u001b[0m\u001b[1;33m=\u001b[0m\u001b[0munits\u001b[0m\u001b[1;33m\u001b[0m\u001b[1;33m\u001b[0m\u001b[0m\n\u001b[0;32m    156\u001b[0m             )\n\u001b[1;32m--> 157\u001b[1;33m             \u001b[0mplot_data\u001b[0m \u001b[1;33m=\u001b[0m \u001b[0mpd\u001b[0m\u001b[1;33m.\u001b[0m\u001b[0mDataFrame\u001b[0m\u001b[1;33m(\u001b[0m\u001b[0mplot_data\u001b[0m\u001b[1;33m)\u001b[0m\u001b[1;33m\u001b[0m\u001b[1;33m\u001b[0m\u001b[0m\n\u001b[0m\u001b[0;32m    158\u001b[0m \u001b[1;33m\u001b[0m\u001b[0m\n\u001b[0;32m    159\u001b[0m         \u001b[1;31m# Option 3:\u001b[0m\u001b[1;33m\u001b[0m\u001b[1;33m\u001b[0m\u001b[1;33m\u001b[0m\u001b[0m\n",
      "\u001b[1;32m~\\anaconda3\\lib\\site-packages\\pandas\\core\\frame.py\u001b[0m in \u001b[0;36m__init__\u001b[1;34m(self, data, index, columns, dtype, copy)\u001b[0m\n\u001b[0;32m    433\u001b[0m             )\n\u001b[0;32m    434\u001b[0m         \u001b[1;32melif\u001b[0m \u001b[0misinstance\u001b[0m\u001b[1;33m(\u001b[0m\u001b[0mdata\u001b[0m\u001b[1;33m,\u001b[0m \u001b[0mdict\u001b[0m\u001b[1;33m)\u001b[0m\u001b[1;33m:\u001b[0m\u001b[1;33m\u001b[0m\u001b[1;33m\u001b[0m\u001b[0m\n\u001b[1;32m--> 435\u001b[1;33m             \u001b[0mmgr\u001b[0m \u001b[1;33m=\u001b[0m \u001b[0minit_dict\u001b[0m\u001b[1;33m(\u001b[0m\u001b[0mdata\u001b[0m\u001b[1;33m,\u001b[0m \u001b[0mindex\u001b[0m\u001b[1;33m,\u001b[0m \u001b[0mcolumns\u001b[0m\u001b[1;33m,\u001b[0m \u001b[0mdtype\u001b[0m\u001b[1;33m=\u001b[0m\u001b[0mdtype\u001b[0m\u001b[1;33m)\u001b[0m\u001b[1;33m\u001b[0m\u001b[1;33m\u001b[0m\u001b[0m\n\u001b[0m\u001b[0;32m    436\u001b[0m         \u001b[1;32melif\u001b[0m \u001b[0misinstance\u001b[0m\u001b[1;33m(\u001b[0m\u001b[0mdata\u001b[0m\u001b[1;33m,\u001b[0m \u001b[0mma\u001b[0m\u001b[1;33m.\u001b[0m\u001b[0mMaskedArray\u001b[0m\u001b[1;33m)\u001b[0m\u001b[1;33m:\u001b[0m\u001b[1;33m\u001b[0m\u001b[1;33m\u001b[0m\u001b[0m\n\u001b[0;32m    437\u001b[0m             \u001b[1;32mimport\u001b[0m \u001b[0mnumpy\u001b[0m\u001b[1;33m.\u001b[0m\u001b[0mma\u001b[0m\u001b[1;33m.\u001b[0m\u001b[0mmrecords\u001b[0m \u001b[1;32mas\u001b[0m \u001b[0mmrecords\u001b[0m\u001b[1;33m\u001b[0m\u001b[1;33m\u001b[0m\u001b[0m\n",
      "\u001b[1;32m~\\anaconda3\\lib\\site-packages\\pandas\\core\\internals\\construction.py\u001b[0m in \u001b[0;36minit_dict\u001b[1;34m(data, index, columns, dtype)\u001b[0m\n\u001b[0;32m    252\u001b[0m             \u001b[0marr\u001b[0m \u001b[1;32mif\u001b[0m \u001b[1;32mnot\u001b[0m \u001b[0mis_datetime64tz_dtype\u001b[0m\u001b[1;33m(\u001b[0m\u001b[0marr\u001b[0m\u001b[1;33m)\u001b[0m \u001b[1;32melse\u001b[0m \u001b[0marr\u001b[0m\u001b[1;33m.\u001b[0m\u001b[0mcopy\u001b[0m\u001b[1;33m(\u001b[0m\u001b[1;33m)\u001b[0m \u001b[1;32mfor\u001b[0m \u001b[0marr\u001b[0m \u001b[1;32min\u001b[0m \u001b[0marrays\u001b[0m\u001b[1;33m\u001b[0m\u001b[1;33m\u001b[0m\u001b[0m\n\u001b[0;32m    253\u001b[0m         ]\n\u001b[1;32m--> 254\u001b[1;33m     \u001b[1;32mreturn\u001b[0m \u001b[0marrays_to_mgr\u001b[0m\u001b[1;33m(\u001b[0m\u001b[0marrays\u001b[0m\u001b[1;33m,\u001b[0m \u001b[0mdata_names\u001b[0m\u001b[1;33m,\u001b[0m \u001b[0mindex\u001b[0m\u001b[1;33m,\u001b[0m \u001b[0mcolumns\u001b[0m\u001b[1;33m,\u001b[0m \u001b[0mdtype\u001b[0m\u001b[1;33m=\u001b[0m\u001b[0mdtype\u001b[0m\u001b[1;33m)\u001b[0m\u001b[1;33m\u001b[0m\u001b[1;33m\u001b[0m\u001b[0m\n\u001b[0m\u001b[0;32m    255\u001b[0m \u001b[1;33m\u001b[0m\u001b[0m\n\u001b[0;32m    256\u001b[0m \u001b[1;33m\u001b[0m\u001b[0m\n",
      "\u001b[1;32m~\\anaconda3\\lib\\site-packages\\pandas\\core\\internals\\construction.py\u001b[0m in \u001b[0;36marrays_to_mgr\u001b[1;34m(arrays, arr_names, index, columns, dtype)\u001b[0m\n\u001b[0;32m     62\u001b[0m     \u001b[1;31m# figure out the index, if necessary\u001b[0m\u001b[1;33m\u001b[0m\u001b[1;33m\u001b[0m\u001b[1;33m\u001b[0m\u001b[0m\n\u001b[0;32m     63\u001b[0m     \u001b[1;32mif\u001b[0m \u001b[0mindex\u001b[0m \u001b[1;32mis\u001b[0m \u001b[1;32mNone\u001b[0m\u001b[1;33m:\u001b[0m\u001b[1;33m\u001b[0m\u001b[1;33m\u001b[0m\u001b[0m\n\u001b[1;32m---> 64\u001b[1;33m         \u001b[0mindex\u001b[0m \u001b[1;33m=\u001b[0m \u001b[0mextract_index\u001b[0m\u001b[1;33m(\u001b[0m\u001b[0marrays\u001b[0m\u001b[1;33m)\u001b[0m\u001b[1;33m\u001b[0m\u001b[1;33m\u001b[0m\u001b[0m\n\u001b[0m\u001b[0;32m     65\u001b[0m     \u001b[1;32melse\u001b[0m\u001b[1;33m:\u001b[0m\u001b[1;33m\u001b[0m\u001b[1;33m\u001b[0m\u001b[0m\n\u001b[0;32m     66\u001b[0m         \u001b[0mindex\u001b[0m \u001b[1;33m=\u001b[0m \u001b[0mensure_index\u001b[0m\u001b[1;33m(\u001b[0m\u001b[0mindex\u001b[0m\u001b[1;33m)\u001b[0m\u001b[1;33m\u001b[0m\u001b[1;33m\u001b[0m\u001b[0m\n",
      "\u001b[1;32m~\\anaconda3\\lib\\site-packages\\pandas\\core\\internals\\construction.py\u001b[0m in \u001b[0;36mextract_index\u001b[1;34m(data)\u001b[0m\n\u001b[0;32m    363\u001b[0m             \u001b[0mlengths\u001b[0m \u001b[1;33m=\u001b[0m \u001b[0mlist\u001b[0m\u001b[1;33m(\u001b[0m\u001b[0mset\u001b[0m\u001b[1;33m(\u001b[0m\u001b[0mraw_lengths\u001b[0m\u001b[1;33m)\u001b[0m\u001b[1;33m)\u001b[0m\u001b[1;33m\u001b[0m\u001b[1;33m\u001b[0m\u001b[0m\n\u001b[0;32m    364\u001b[0m             \u001b[1;32mif\u001b[0m \u001b[0mlen\u001b[0m\u001b[1;33m(\u001b[0m\u001b[0mlengths\u001b[0m\u001b[1;33m)\u001b[0m \u001b[1;33m>\u001b[0m \u001b[1;36m1\u001b[0m\u001b[1;33m:\u001b[0m\u001b[1;33m\u001b[0m\u001b[1;33m\u001b[0m\u001b[0m\n\u001b[1;32m--> 365\u001b[1;33m                 \u001b[1;32mraise\u001b[0m \u001b[0mValueError\u001b[0m\u001b[1;33m(\u001b[0m\u001b[1;34m\"arrays must all be same length\"\u001b[0m\u001b[1;33m)\u001b[0m\u001b[1;33m\u001b[0m\u001b[1;33m\u001b[0m\u001b[0m\n\u001b[0m\u001b[0;32m    366\u001b[0m \u001b[1;33m\u001b[0m\u001b[0m\n\u001b[0;32m    367\u001b[0m             \u001b[1;32mif\u001b[0m \u001b[0mhave_dicts\u001b[0m\u001b[1;33m:\u001b[0m\u001b[1;33m\u001b[0m\u001b[1;33m\u001b[0m\u001b[0m\n",
      "\u001b[1;31mValueError\u001b[0m: arrays must all be same length"
     ]
    }
   ],
   "source": [
    "sns.scatterplot(x=price_removed, y=MSRP_removed)"
   ]
  },
  {
   "cell_type": "code",
   "execution_count": 101,
   "metadata": {},
   "outputs": [
    {
     "data": {
      "text/plain": [
       "<seaborn.axisgrid.PairGrid at 0x1baffbacb08>"
      ]
     },
     "execution_count": 101,
     "metadata": {},
     "output_type": "execute_result"
    },
    {
     "data": {
      "image/png": "[encoded data removed]",
      "text/plain": [
       "<Figure size 720x720 with 20 Axes>"
      ]
     },
     "metadata": {
      "needs_background": "light"
     },
     "output_type": "display_data"
    }
   ],
   "source": [
    "sns.pairplot(full)"
   ]
  }
 ],
 "metadata": {
  "kernelspec": {
   "display_name": "Python 3",
   "language": "python",
   "name": "python3"
  },
  "language_info": {
   "codemirror_mode": {
    "name": "ipython",
    "version": 3
   },
   "file_extension": ".py",
   "mimetype": "text/x-python",
   "name": "python",
   "nbconvert_exporter": "python",
   "pygments_lexer": "ipython3",
   "version": "3.7.6"
  }
 },
 "nbformat": 4,
 "nbformat_minor": 4
}
